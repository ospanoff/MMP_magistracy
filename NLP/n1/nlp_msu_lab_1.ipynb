{
 "cells": [
  {
   "cell_type": "markdown",
   "metadata": {
    "deletable": true,
    "editable": true
   },
   "source": [
    "## Лабораторная работа №1 (курс \"Математические методы анализа текстов\")"
   ]
  },
  {
   "cell_type": "markdown",
   "metadata": {
    "deletable": true,
    "editable": true
   },
   "source": [
    "#### Тема: Определение частей речи и выделение именованных сущностей.\n",
    "\n",
    "\n",
    "**Выдана**:   25 февраля 2017\n",
    "\n",
    "**Дедлайн**:   <font color='red'>9:00 утра 13 марта 2017</font>\n",
    "\n",
    "**Среда выполнения**: Jupyter Notebook (Python 2.7)\n",
    "\n",
    "#### Правила:\n",
    "\n",
    "Результат выполнения задания - отчет в формате Jupyter Notebook с кодом и выводами. В ходе выполнения задания требуется реализовать все необходимые алгоритмы, провести эксперименты и ответить на поставленные вопросы. Дополнительные выводы приветствуются. Чем меньше кода и больше комментариев - тем лучше.\n",
    "\n",
    "Все ячейки должны быть \"выполненными\", при этом результат должен воспроизвдиться при проверке (на Python 2.7). Если какой-то код не был запущен или отрабатывает с ошибками, то пункт не засчитывается. Задание, сданное после дедлайна, _не принимается_. Совсем.\n",
    "\n",
    "\n",
    "Задание выполняется самостоятельно. Вы можете обсуждать идеи, объяснять друг другу материал, но не можете обмениваться частями своего кода. Если какие-то студенты будут уличены в списывании, все они автоматически получат за эту работу 0 баллов, а также предвзято негативное отношение семинаристов в будущем. Если вы нашли в Интернете какой-то код, который собираетесь заимствовать, обязательно укажите это в задании: вполне вероятно, что вы не единственный, кто найдёт и использует эту информацию."
   ]
  },
  {
   "cell_type": "markdown",
   "metadata": {
    "deletable": true,
    "editable": true
   },
   "source": [
    "#### Постановка задачи:\n",
    "\n",
    "В данной лабораторной работе вам предстоит:\n",
    "\n",
    "- обучить скрытую марковскую модель на размеченных данных и реализовать алгоритм Витерби для задачи POS-теггинга (определение частей речи слов в тексте)\n",
    "\n",
    "- научиться использовать ряд POS-теггеров из библиотеки NLTK и сравнить качество их работы\n",
    "\n",
    "- придумать различные признаки для CRF и использовать их в реализации CRF из пакета CRFsuite для решения задачи NER (выделение именованных сущностей в тексте)\n",
    "\n",
    "- использовать готовое решение для решения задачи NER и сравнить качество"
   ]
  },
  {
   "cell_type": "markdown",
   "metadata": {
    "deletable": true,
    "editable": true
   },
   "source": [
    "#### Комментарии и советы:\n",
    "\n",
    "1. Для выполнения потребуются модули Python numpy, nltk, pycrfsuite (для импорта последнего нужно установить пакет python-crfsuite).\n",
    "\n",
    "2. Все необходимые для выполнения задания данные либо приложены, либо могут быть скачаны с помощью nltk.download().\n",
    "\n",
    "3. Посмотреть параметры конструктора и других методов классов можно набрав и выполнив в ячейке с кодом '?full_method_name'.\n",
    "\n",
    "4. В коде Stanford NER tagger, возможно, присутствует ошибка. Для её устранения в файле /usr/local/lib/python2.7/site-packages/nltk/tag/api.py (или его аналоге в Windows) замените строку с номером 66 на следующую: tagged_sents = self.tag_sents([untag(sent) for sent in gold])"
   ]
  },
  {
   "cell_type": "markdown",
   "metadata": {
    "deletable": true,
    "editable": true
   },
   "source": [
    "### 1. Определение частей речи (POS)"
   ]
  },
  {
   "cell_type": "markdown",
   "metadata": {
    "deletable": true,
    "editable": true
   },
   "source": [
    "Мы будем решать задачу определения частей речи (POS-теггинга) с помощью скрытой марковской модели (HMM). Формула совместной плотности наблюдаемых и скрытых переменных задается как\n",
    "\n",
    "$$ p(X, T) = p(T) p(X|T) = p(t_1)  \\prod_{i=2}^N p(t_i|t_{i-1}) \\prod_{i=1}^N p(x_i|t_i)$$\n",
    "\n",
    "В данном случае:\n",
    "\n",
    "- наблюдаемые переменные $X$ - это слова корпуса;\n",
    "\n",
    "- скрытые переменные $T$ - это POS-теги."
   ]
  },
  {
   "cell_type": "markdown",
   "metadata": {
    "deletable": true,
    "editable": true
   },
   "source": [
    "#### 1.1. Обучение HMM на размеченных данных\n",
    "\n",
    "Требуется построить скрытую марковскую модель и настроить все ее параметры с помощью оценок максимального правдоподобия по размеченным данным (последовательности пар слово+тег):\n",
    "\n",
    "- Вероятности переходов между скрытыми состояниями $p(t_i | t_{i - 1})$ посчитайте на основе частот биграмм POS-тегов.\n",
    "\n",
    "- Вероятности эмиссий наблюдаемых состояний $p(x_i | t_i)$ посчитайте на основе частот \"POS-тег - слово\".\n",
    "\n",
    "- Обратите внимание на проблему разреженности счетчиков и сделаейте все вероятности сглаженными по Лапласу (add-one smoothing).\n",
    "\n",
    "- Распределение вероятностей начальных состояний $p(t_1)$ задайте равномерным.\n",
    "\n",
    "Обратите внимание, что так как мы используем размеченные данные, то у нас нет необходимости в оценивании апостериорных вероятностей на скрытые переменные с помощью алгоритма forward-backword и использовании EM-алгоритма."
   ]
  },
  {
   "cell_type": "code",
   "execution_count": 1,
   "metadata": {
    "collapsed": true,
    "deletable": true,
    "editable": true
   },
   "outputs": [],
   "source": [
    "import numpy as np\n",
    "import matplotlib.pyplot as plt"
   ]
  },
  {
   "cell_type": "code",
   "execution_count": 2,
   "metadata": {
    "collapsed": true,
    "deletable": true,
    "editable": true
   },
   "outputs": [],
   "source": [
    "class HMM:\n",
    "    POSTFIX_LEN = 2\n",
    "    \n",
    "    MAX_TAGS = 50\n",
    "    MAX_WORDS = 100000\n",
    "    MAX_POSTFIX = 40 ** POSTFIX_LEN\n",
    "    \n",
    "    def __init__(self, lower=True):\n",
    "        self.lower = lower\n",
    "    \n",
    "    def fit(self, sentences):\n",
    "        word_tag = np.ones((self.MAX_WORDS, self.MAX_TAGS))\n",
    "        tag_tag = np.ones((self.MAX_TAGS, self.MAX_TAGS))\n",
    "        postfix_tag = np.ones((self.MAX_POSTFIX, self.MAX_TAGS))\n",
    "        \n",
    "        words_dict = dict()\n",
    "        tags_dict = dict()\n",
    "        postfixs_dict = dict()\n",
    "        \n",
    "        tag_i, word_i, pfix_i = 0, 0, 0\n",
    "        for sentence in sentences:\n",
    "            prev_tag = None\n",
    "            for word, tag in sentence:\n",
    "                word, postfix = self.get_word_postfix(word)\n",
    "                \n",
    "                if word not in words_dict:\n",
    "                    words_dict[word] = word_i\n",
    "                    word_i += 1\n",
    "                    \n",
    "                if tag not in tags_dict:\n",
    "                    tags_dict[tag] = tag_i\n",
    "                    tag_i += 1\n",
    "\n",
    "                if postfix not in postfixs_dict:\n",
    "                    postfixs_dict[postfix] = pfix_i\n",
    "                    pfix_i += 1\n",
    "                    \n",
    "                word_tag[words_dict[word], tags_dict[tag]] += 1\n",
    "                postfix_tag[postfixs_dict[postfix], tags_dict[tag]] += 1\n",
    "                if prev_tag is not None:\n",
    "                    tag_tag[tags_dict[prev_tag], tags_dict[tag]] += 1\n",
    "                    \n",
    "                prev_tag = tag\n",
    "        \n",
    "        self.word_tag = np.copy(word_tag[:word_i, :tag_i])\n",
    "        self.tag_tag = np.copy(tag_tag[:tag_i, :tag_i])\n",
    "        self.postfix_tag = np.copy(postfix_tag[:pfix_i, :tag_i])\n",
    "        \n",
    "        self.words_dict = words_dict\n",
    "        self.tags_dict = tags_dict\n",
    "        self.postfixs_dict = postfixs_dict\n",
    "        \n",
    "        del word_tag\n",
    "        del tag_tag\n",
    "        \n",
    "        self.word_tag_prob = self.word_tag / self.word_tag.sum(axis=0)\n",
    "        self.postfix_tag_prob = self.postfix_tag / self.postfix_tag.sum(axis=0)\n",
    "        self.tag_tag_prob = self.tag_tag / self.tag_tag.sum(axis=1)[:, np.newaxis]\n",
    "        self.tags_dist = np.ones(len(self.tags_dict)) / len(self.tags_dict)\n",
    "        self.most_freq_tag = self.word_tag.sum(axis=0).argmax()\n",
    "        \n",
    "    def predict(self, sentence):\n",
    "        delta = np.zeros((len(self.tags_dict), len(sentence)))\n",
    "        s = np.zeros((len(self.tags_dict), len(sentence) - 1), dtype=np.int)\n",
    "        \n",
    "        unknowns_indx = []\n",
    "        \n",
    "        word, postfix = self.get_word_postfix(sentence[0])\n",
    "        if word in self.words_dict:\n",
    "            delta[:, 0] = np.log(self.tags_dist) + np.log(self.word_tag_prob[self.words_dict[word]])\n",
    "        elif postfix in self.postfixs_dict:\n",
    "            delta[:, 0] = np.log(self.tags_dist) + np.log(self.postfix_tag_prob[self.postfixs_dict[postfix]])\n",
    "        else:\n",
    "            unknowns_indx += [0]\n",
    "        \n",
    "        tt_log = np.log(self.tag_tag_prob)\n",
    "        for i, word in enumerate(sentence[1:]):\n",
    "            word, postfix = self.get_word_postfix(word)\n",
    "            \n",
    "            if word in self.words_dict:\n",
    "                tmp = delta[:, i, np.newaxis] + tt_log +\\\n",
    "                      np.log(self.word_tag_prob[self.words_dict[word]])\n",
    "            elif postfix in self.postfixs_dict:\n",
    "                tmp = delta[:, i, np.newaxis] + tt_log +\\\n",
    "                      np.log(self.postfix_tag_prob[self.postfixs_dict[postfix]])\n",
    "            else:\n",
    "                tmp = np.zeros_like(tt_log)\n",
    "                unknowns_indx += [i + 1]\n",
    "            \n",
    "            s[:, i] = np.argmax(tmp, axis=0)\n",
    "            delta[:, i + 1] = np.max(tmp, axis=0)\n",
    "            \n",
    "        tag_by_indx = sorted(self.tags_dict, key=self.tags_dict.get)\n",
    "        \n",
    "        tag_indx = np.argmax(delta[:, -1]) if len(sentence) - 1 not in unknowns_indx else self.most_freq_tag\n",
    "        prediction = [tag_by_indx[tag_indx]]\n",
    "        for i in range(s.shape[1] - 1, -1, -1):\n",
    "            tag_indx = s[tag_indx, i]\n",
    "            if i not in unknowns_indx:\n",
    "                prediction += [tag_by_indx[tag_indx]]\n",
    "            else:\n",
    "                prediction += [tag_by_indx[self.most_freq_tag]]\n",
    "            \n",
    "        return prediction[::-1]\n",
    "    \n",
    "    def get_word_postfix(self, word):\n",
    "        if self.lower:\n",
    "            word = word.lower()\n",
    "            \n",
    "        return word, word[-self.POSTFIX_LEN:]"
   ]
  },
  {
   "cell_type": "markdown",
   "metadata": {
    "deletable": true,
    "editable": true
   },
   "source": [
    "Загрузите brown корпус с универсальной системой тегирования. Для этого вам понадобятся ресурсы brown и universal_tagset из nltk.download().  В этой системе содержатся следующие теги:\n",
    "\n",
    "- ADJ - adjective (new, good, high, ...)\n",
    "- ADP - adposition\t(on, of, at, ...)\n",
    "- ADV - adverb\t(really, already, still, ...)\n",
    "- CONJ\t- conjunction\t(and, or, but, ...)\n",
    "- DET - determiner, article\t(the, a, some, ...)\n",
    "- NOUN\t- noun\t(year, home, costs, ...)\n",
    "- NUM - numeral\t(twenty-four, fourth, 1991, ...)\n",
    "- PRT -\tparticle (at, on, out, ...)\n",
    "- PRON - pronoun (he, their, her, ...)\n",
    "- VERB - verb (is, say, told, ...)\n",
    "- .\t- punctuation marks\t(. , ;)\n",
    "- X\t- other\t(ersatz, esprit, dunno, ...)\n",
    "\n",
    "Обратите внимание, что тегсеты в корпусах текстов и в различных теггерах могут быть разными. Проверять это можно, глядя на сами теги, а симптом - подозрительно низкое качество теггирования. В таких случаях рекомендуется всё приводить сперва к универсальному тегсету, а потом уже мерять качество. Полезной может оказаться эта ссылка http://www.nltk.org/_modules/nltk/tag/mapping.html\n",
    "\n",
    "Проанализируйте данные, с которыми Вы работаете. В частности, ответьте на вопросы:\n",
    "- Каков общий объем датасета, формат?\n",
    "- Приведены ли слова к нижнему регистру? Чем  это нам может в дальнейшем помешать?\n",
    "- Как распределены слова в корпусе?  Как распределены теги в корпусе? Подсчитайте частоты и отобразите любым удобным для Вас способом. Проинтерпретируйте полученные результаты.\n",
    "\n",
    "Задем сделайте случайное разбиение выборки на обучение и контроль в отношении 9:1 и обучите скрытую марковскую модель из предыдущего пункта. Если впоследствии обучение моделей будет занимать слишком много времени, работайте с подвыборкой, например, только текстами определенных категорий."
   ]
  },
  {
   "cell_type": "code",
   "execution_count": 3,
   "metadata": {
    "collapsed": true,
    "deletable": true,
    "editable": true
   },
   "outputs": [],
   "source": [
    "from nltk.corpus import brown\n",
    "from sklearn.model_selection import train_test_split\n",
    "\n",
    "brown_tagged_sents = brown.tagged_sents(tagset='universal')\n",
    "X_train, X_test = train_test_split(brown_tagged_sents, train_size=0.9)"
   ]
  },
  {
   "cell_type": "code",
   "execution_count": 4,
   "metadata": {
    "collapsed": false
   },
   "outputs": [
    {
     "data": {
      "text/plain": [
       "(57340, 20.250994070456922)"
      ]
     },
     "execution_count": 4,
     "metadata": {},
     "output_type": "execute_result"
    }
   ],
   "source": [
    "len(X_train + X_test), np.mean([len(x) for x in (X_train + X_test)])"
   ]
  },
  {
   "cell_type": "markdown",
   "metadata": {},
   "source": [
    "Общий объем датасета Брауновского корпуса $57340$ предложений по $20$ слов в среднем.\n",
    "\n",
    "В датасете регистры слов такие, какие они в обычных предложения. Т.е. не приведены к нижнему регистру. Если привести к нижнему регистру, то реализованный алгоритм улучается примерно на $0.5\\%$ (с $0.9377$ до $0.9421$). В дальнейшем приведение к нижнему регистру может помешать в определении имен собственных."
   ]
  },
  {
   "cell_type": "code",
   "execution_count": 5,
   "metadata": {
    "collapsed": false
   },
   "outputs": [
    {
     "name": "stdout",
     "output_type": "stream",
     "text": [
      "CPU times: user 2.19 s, sys: 36.7 ms, total: 2.23 s\n",
      "Wall time: 2.18 s\n"
     ]
    }
   ],
   "source": [
    "hmm = HMM()\n",
    "%time hmm.fit(X_train)"
   ]
  },
  {
   "cell_type": "code",
   "execution_count": 6,
   "metadata": {
    "collapsed": true
   },
   "outputs": [],
   "source": [
    "words_freq = hmm.word_tag.sum(axis=1)\n",
    "words_freq = words_freq / words_freq.sum()\n",
    "words_freq = -np.sort(-words_freq)"
   ]
  },
  {
   "cell_type": "code",
   "execution_count": 7,
   "metadata": {
    "collapsed": false
   },
   "outputs": [
    {
     "data": {
      "image/png": "[encoded data removed]",
      "text/plain": [
       "<matplotlib.figure.Figure at 0x7f5a5f1c0c50>"
      ]
     },
     "metadata": {},
     "output_type": "display_data"
    }
   ],
   "source": [
    "C = 100\n",
    "plt.figure(figsize=(15, 10))\n",
    "plt.plot(words_freq[:C])\n",
    "plt.title(u'Words\\' distribution ordered by their frequency (Zipf\\'s law)',\n",
    "          fontdict={'fontsize': 15})\n",
    "plt.show()"
   ]
  },
  {
   "cell_type": "markdown",
   "metadata": {},
   "source": [
    "Из графика можно сделать вывод, что закон Ципфа для наших данных тоже выполняется"
   ]
  },
  {
   "cell_type": "code",
   "execution_count": 8,
   "metadata": {
    "collapsed": true
   },
   "outputs": [],
   "source": [
    "tags_freq = hmm.word_tag.sum(axis=0)"
   ]
  },
  {
   "cell_type": "code",
   "execution_count": 9,
   "metadata": {
    "collapsed": false
   },
   "outputs": [
    {
     "data": {
      "image/png": "[encoded data removed]",
      "text/plain": [
       "<matplotlib.figure.Figure at 0x7f5a5f762090>"
      ]
     },
     "metadata": {},
     "output_type": "display_data"
    }
   ],
   "source": [
    "plt.figure(figsize=(15, 10))\n",
    "tags_names = np.array(sorted(hmm.tags_dict, key=hmm.tags_dict.get))\n",
    "indx = np.argsort(tags_names)\n",
    "plt.bar(np.arange(tags_freq.size), tags_freq[indx] / tags_freq.sum())\n",
    "plt.xticks(np.arange(tags_freq.size), tags_names[indx])\n",
    "plt.title(u'Tags\\' distribution', fontdict={'fontsize': 15})\n",
    "plt.show()"
   ]
  },
  {
   "cell_type": "markdown",
   "metadata": {},
   "source": [
    "Теги в корпусе распределены как показано на графике. Больше всего встречается NOUN, что является вполне естественным. Ну и меньше всего неопределенных слов."
   ]
  },
  {
   "cell_type": "markdown",
   "metadata": {
    "deletable": true,
    "editable": true
   },
   "source": [
    "#### 1.2 Алгоритм Витерби для применения модели\n",
    "\n",
    "Чтобы использовать обученную модель для определения частей речи на новых данных, необходимо реализовать алгоритм Витерби. Это алгоритм динамиеского программирования, с помощью которого мы будем находить наиболее вероятную последовательность скрытых состояний модели для фиксированной последовательности слов:\n",
    "\n",
    "$$ \\hat{T} = \\arg \\max_{T} p(T|X) = \\arg \\max_{T} p(X, T) $$"
   ]
  },
  {
   "cell_type": "markdown",
   "metadata": {
    "deletable": true,
    "editable": true
   },
   "source": [
    "Определим функцию, определяющую максимальную вероятность последовательности, заканчивающейся на $i$-ой позиции в состоянии $k$:\n",
    "\n",
    "$$\\delta(k, i) = \\max_{t_1, \\dots t_{i-1}} p(x_1, \\dots x_i, t_1, \\dots t_i=k)$$\n",
    "\n",
    "Тогда $\\max_{k} \\delta(k, N)$ - максимальная вероятность всей последовательности. А состояния, на которых эта вероятность достигается - ответ задачи.\n",
    "\n",
    "Алгоритм Витерби заключается в последовательном пересчете функции $\\delta(k, i)$ по формуле:\n",
    "\n",
    "$$\\delta(k, i) = \\max_{m} \\delta(m, i-1) p(t_i = k|t_{i-1} = m) p(x_i|t_i=k) $$\n",
    "\n",
    "Аналогично пересчитывается функция, определяющая, на каком состоянии этот максимум достигается:\n",
    "\n",
    "$$s(k, i) = \\arg \\max_{m} \\delta(m, i-1) p(t_i = k|t_{i-1} = m) p(x_i|t_i=k) $$\n",
    "\n",
    "\n",
    "На практике это означает заполнение двумерных массивов размерности: (длина последовательности) $\\times$ (количество возможных состояний). Когда массивы заполнены, $\\arg \\max_{k} \\delta(k, N)$ говорит о последнем состоянии. Начиная с него можно восстановить все состояния по массиву $s$. \n",
    "\n",
    "Осталось уточнить, как стартовать последовательный пересчет (чем заполнить первый столбец массива вероятностей):\n",
    "\n",
    "$$\\delta(k, 1) = p(k) p(x_1|t_1=k)$$\n",
    "\n",
    "В реализации рекомендуется перейти к логарифмам, т.к. произведение большого числа маленьких вероятностей может приводить к вычислительным ошибкам."
   ]
  },
  {
   "cell_type": "markdown",
   "metadata": {
    "deletable": true,
    "editable": true
   },
   "source": [
    "Проверьте работу реализованного алгоритма на следующих модельных примерах, проинтерпретируйте результат.\n",
    "\n",
    "- 'he can stay'\n",
    "- 'a milk can'\n",
    "- 'i saw a dog'\n",
    "- 'an old saw'"
   ]
  },
  {
   "cell_type": "code",
   "execution_count": 10,
   "metadata": {
    "collapsed": false,
    "deletable": true,
    "editable": true
   },
   "outputs": [
    {
     "data": {
      "text/plain": [
       "[u'PRON', u'VERB', u'VERB']"
      ]
     },
     "execution_count": 10,
     "metadata": {},
     "output_type": "execute_result"
    }
   ],
   "source": [
    "hmm.predict('he can stay'.split(' '))"
   ]
  },
  {
   "cell_type": "code",
   "execution_count": 11,
   "metadata": {
    "collapsed": false,
    "deletable": true,
    "editable": true
   },
   "outputs": [
    {
     "data": {
      "text/plain": [
       "[u'DET', u'NOUN', u'VERB']"
      ]
     },
     "execution_count": 11,
     "metadata": {},
     "output_type": "execute_result"
    }
   ],
   "source": [
    "hmm.predict('a milk can'.split(' '))"
   ]
  },
  {
   "cell_type": "code",
   "execution_count": 12,
   "metadata": {
    "collapsed": false,
    "deletable": true,
    "editable": true
   },
   "outputs": [
    {
     "data": {
      "text/plain": [
       "[u'PRON', u'VERB', u'DET', u'NOUN']"
      ]
     },
     "execution_count": 12,
     "metadata": {},
     "output_type": "execute_result"
    }
   ],
   "source": [
    "hmm.predict('i saw a dog'.split(' '))"
   ]
  },
  {
   "cell_type": "code",
   "execution_count": 13,
   "metadata": {
    "collapsed": false,
    "deletable": true,
    "editable": true
   },
   "outputs": [
    {
     "data": {
      "text/plain": [
       "[u'DET', u'ADJ', u'VERB']"
      ]
     },
     "execution_count": 13,
     "metadata": {},
     "output_type": "execute_result"
    }
   ],
   "source": [
    "hmm.predict('an old saw'.split(' '))"
   ]
  },
  {
   "cell_type": "markdown",
   "metadata": {},
   "source": [
    "Ошибки в определении частей речи для слов 'can' и 'saw' происходят из-за частоты словосочетаний с этими словами. Например, рассмотрим слово 'saw'"
   ]
  },
  {
   "cell_type": "code",
   "execution_count": 14,
   "metadata": {
    "collapsed": false
   },
   "outputs": [
    {
     "data": {
      "text/plain": [
       "6.0"
      ]
     },
     "execution_count": 14,
     "metadata": {},
     "output_type": "execute_result"
    }
   ],
   "source": [
    "hmm.word_tag[hmm.words_dict[u'saw']][hmm.tags_dict['NOUN']]"
   ]
  },
  {
   "cell_type": "code",
   "execution_count": 15,
   "metadata": {
    "collapsed": false
   },
   "outputs": [
    {
     "data": {
      "text/plain": [
       "312.0"
      ]
     },
     "execution_count": 15,
     "metadata": {},
     "output_type": "execute_result"
    }
   ],
   "source": [
    "hmm.word_tag[hmm.words_dict[u'saw']][hmm.tags_dict['VERB']]"
   ]
  },
  {
   "cell_type": "markdown",
   "metadata": {},
   "source": [
    "Как видно, слов 'saw' таких, что они NOUN всего 6 штук, а VERB 325. Но ведь марковская модель определяет еще и по пред. слову, скажите вы. Но таких словосочетаний, когда перед saw не местоимение или существительное очень мало либо вообще нет. Например поищем 'a saw'"
   ]
  },
  {
   "cell_type": "code",
   "execution_count": 16,
   "metadata": {
    "collapsed": false
   },
   "outputs": [],
   "source": [
    "for sent in X_train:\n",
    "    if ' a saw ' in ' '.join(map(lambda x: x[0].lower(), sent)):\n",
    "        print map(lambda x: x[0].lower(), sent)\n",
    "        print '\\n'"
   ]
  },
  {
   "cell_type": "markdown",
   "metadata": {},
   "source": [
    "Таких словосочетаний в обучающей выборке нету вообще"
   ]
  },
  {
   "cell_type": "markdown",
   "metadata": {
    "deletable": true,
    "editable": true
   },
   "source": [
    "Примените модель к отложенной выборке Брауновского корпуса и подсчитайте точность определения тегов (accuracy). Сделайте выводы. "
   ]
  },
  {
   "cell_type": "code",
   "execution_count": 17,
   "metadata": {
    "collapsed": true
   },
   "outputs": [],
   "source": [
    "from sklearn.metrics import accuracy_score"
   ]
  },
  {
   "cell_type": "code",
   "execution_count": 18,
   "metadata": {
    "collapsed": true
   },
   "outputs": [],
   "source": [
    "def score(clf, X_test):\n",
    "    accuracy = []\n",
    "    for sentence in X_test:\n",
    "        test_sent = map(lambda x: x[0], sentence)\n",
    "        test_ans = map(lambda x: x[1], sentence)\n",
    "        accuracy += [accuracy_score(test_ans, clf.predict(test_sent))]\n",
    "        \n",
    "    return np.mean(accuracy)"
   ]
  },
  {
   "cell_type": "code",
   "execution_count": 19,
   "metadata": {
    "collapsed": false
   },
   "outputs": [
    {
     "data": {
      "text/plain": [
       "0.9415567172200251"
      ]
     },
     "execution_count": 19,
     "metadata": {},
     "output_type": "execute_result"
    }
   ],
   "source": [
    "score(hmm, X_test)"
   ]
  },
  {
   "cell_type": "markdown",
   "metadata": {},
   "source": [
    "Такая хорошая точность достигается благодаря размеру обучающей выборки. Но даже в большой выборке может случиться так, что не будет слова из теста. В таких случаях определяем по окончанию (хороший результат показывает окончание из 2х символов). Если даже нет слов с таким окончанием, то присваиваем наиболее часто встречающийся тэг."
   ]
  },
  {
   "cell_type": "markdown",
   "metadata": {
    "deletable": true,
    "editable": true
   },
   "source": [
    "#### 1.3. Готовые POS-теггеры из NLTK"
   ]
  },
  {
   "cell_type": "markdown",
   "metadata": {
    "deletable": true,
    "editable": true
   },
   "source": [
    "В прошлом пункте Вы реализовали свой POS-тегер на основе скрытой марковской модели. Теперь сравните его работу с готовыми средставми, доступными в библиотеке NLTK: http://www.nltk.org/api/nltk.tag.html"
   ]
  },
  {
   "cell_type": "markdown",
   "metadata": {
    "deletable": true,
    "editable": true
   },
   "source": [
    "Примерный набор кандидатов для сравнения:\n",
    "- Простейший теггер, который всем словам ставит в соответствие одну и ту же метку\n",
    "- Основанный на правилах RegexpTagger (правила можно поискать в Интернете или придумать самим)\n",
    "- N-граммные теггеры (разберитесь и поэкспериментируйте с параметром backoff)\n",
    "- Теггеры на основе графических моделей (можно взять только Stanford): \n",
    "    - HiddenMarkovModelTagger\n",
    "    - CRFTagger\n",
    "    - StanfordPOSTagger (потребуется .jar файл теггера и обученная модель (легко находятся в Интернете), чтобы подать на вход конструктору класса)\n",
    "- BrillTagger, основанный на трансформациях\n",
    "\n",
    "Если работа с какими-то модулями приводит к техническим проблемам, которые Вы не можете решить, это не страшно, модуль можно пропустить. Однако навык быстрого освоения документации / поиска моделей в гугле полезен.  Чем более полным и корректным будет сравнение, тем лучше.\n",
    "\n",
    "При проведении экспериментов обращайте внимание на следующие моменты (и отразите их в отчете):\n",
    "- Какой подход лежит в основе теггера\n",
    "- На каких данных он обучен (если Вы скачали готовую модель)\n",
    "- Сколько времени занимает обучение на brown корпусе (если обучаете сами)\n",
    "- Какая точность получается на контролькой выборке (метод evaluate())\n",
    "\n",
    "Сформируйте рекоммендиции о том, какую технологию Вы бы использовали, если встретитесь с задачей определения частей речи в будущем."
   ]
  },
  {
   "cell_type": "code",
   "execution_count": 20,
   "metadata": {
    "collapsed": false,
    "deletable": true,
    "editable": true
   },
   "outputs": [],
   "source": [
    "import nltk\n",
    "from nltk.tag import DefaultTagger\n",
    "from nltk.tag import RegexpTagger\n",
    "from nltk.tag import UnigramTagger\n",
    "from nltk.tag import BigramTagger\n",
    "from nltk.tag import TrigramTagger\n",
    "from nltk.tag.stanford import StanfordPOSTagger\n",
    "from nltk.tag import BrillTaggerTrainer"
   ]
  },
  {
   "cell_type": "code",
   "execution_count": 21,
   "metadata": {
    "collapsed": false
   },
   "outputs": [],
   "source": [
    "def score_nltk(clf, X_test, convert=False):\n",
    "    accuracy = []\n",
    "    for sentence in X_test:\n",
    "        test_sent = map(lambda x: x[0], sentence)\n",
    "        test_ans = map(lambda x: x[1], sentence)\n",
    "        pred = clf.tag(test_sent)\n",
    "        for i in range(len(pred)):\n",
    "            if pred[i][1] is None:\n",
    "                pred[i] = (pred[i][0], '')\n",
    "                \n",
    "        if convert:\n",
    "            pred = [(p[0], nltk.tag.mapping.map_tag('en-ptb', 'universal', p[1])) for p in pred]\n",
    "                \n",
    "        accuracy += [accuracy_score(test_ans, map(lambda x: x[1], pred))]\n",
    "        \n",
    "    return np.mean(accuracy)"
   ]
  },
  {
   "cell_type": "markdown",
   "metadata": {},
   "source": [
    "##### DefaultTagger"
   ]
  },
  {
   "cell_type": "code",
   "execution_count": 22,
   "metadata": {
    "collapsed": false
   },
   "outputs": [
    {
     "name": "stdout",
     "output_type": "stream",
     "text": [
      "Accuracy for DefaultTagger is 0.230202546301\n",
      "CPU times: user 630 ms, sys: 0 ns, total: 630 ms\n",
      "Wall time: 629 ms\n"
     ]
    }
   ],
   "source": [
    "%%time\n",
    "dtg = DefaultTagger('NOUN')\n",
    "print 'Accuracy for DefaultTagger is', score_nltk(dtg, X_test)"
   ]
  },
  {
   "cell_type": "markdown",
   "metadata": {},
   "source": [
    "DefaultTagger всегда выдает заданное значение тэга. Соотвественно, точность будем такой же, сколько частота этого тэга в обучающих данных. Работает быстро"
   ]
  },
  {
   "cell_type": "markdown",
   "metadata": {},
   "source": [
    "##### RegexpTagger"
   ]
  },
  {
   "cell_type": "code",
   "execution_count": 23,
   "metadata": {
    "collapsed": false
   },
   "outputs": [
    {
     "name": "stdout",
     "output_type": "stream",
     "text": [
      "Accuracy for RegexpTagger is 0.535937940966\n",
      "CPU times: user 5.04 s, sys: 3.33 ms, total: 5.05 s\n",
      "Wall time: 5.04 s\n"
     ]
    }
   ],
   "source": [
    "%%time\n",
    "rtg = RegexpTagger([\n",
    "    # numbers\n",
    "    (r'^-?[0-9]+(.[0-9]+)?$', 'NUM'),\n",
    "    (r'.*one$', 'NUM'),\n",
    "    (r'.*two$', 'NUM'),\n",
    "    (r'.*three$', 'NUM'),\n",
    "    (r'.*four$', 'NUM'),\n",
    "    (r'.*five$', 'NUM'),\n",
    "    (r'.*six$', 'NUM'), \n",
    "    (r'.*seven$', 'NUM'), \n",
    "    (r'.*eight$', 'NUM'),\n",
    "    (r'.*nine$', 'NUM'), \n",
    "    (r'.*ten$', 'NUM'), \n",
    "    (r'.*eleven$', 'NUM'), \n",
    "    (r'.*twelve$', 'NUM'),\n",
    "    \n",
    "    # articles\n",
    "    (r'(The|the|A|a|An|an|some)$', 'DET'),\n",
    "    \n",
    "    # adjectives\n",
    "    (r'.*able$', 'ADJ'), \n",
    "    (r'.*less$', 'ADJ'), \n",
    "    (r'.*ish$', 'ADJ'),\n",
    "    (r'.*ful$', 'ADJ'), \n",
    "    (r'.*ible$', 'ADJ'),\n",
    "    \n",
    "    # adverbs\n",
    "    (r'.*ly$', 'ADV'),\n",
    "    \n",
    "    # verbs\n",
    "    (r'.*ing$', 'VERB'),\n",
    "    (r'.*ed$', 'VERB'),\n",
    "    \n",
    "    # adposition\n",
    "    (r'(on|of|at|in)$', 'ADP'),\n",
    "    \n",
    "    # pronoun\n",
    "    (r'(he|she|it|me|you|they|their)$', 'VERB'),\n",
    "    \n",
    "    # punctuation\n",
    "    (r'(\\.|\\,|\\;|\\:)', '.'),\n",
    "    \n",
    "    # nouns\n",
    "    (r'.*ness$', 'NOUN'),\n",
    "    (r'.*s$', 'NOUN'),\n",
    "    (r'.*', 'NOUN')\n",
    "])\n",
    "print 'Accuracy for RegexpTagger is', score_nltk(rtg, X_test)"
   ]
  },
  {
   "cell_type": "markdown",
   "metadata": {},
   "source": [
    "RegexpTagger работает хорошо, но в прямой зависимости от регулярных выражений. Обучается дольше, чем HMM и точность в моем случае намного хуже"
   ]
  },
  {
   "cell_type": "markdown",
   "metadata": {},
   "source": [
    "##### UnigramTagger"
   ]
  },
  {
   "cell_type": "code",
   "execution_count": 24,
   "metadata": {
    "collapsed": false
   },
   "outputs": [
    {
     "name": "stdout",
     "output_type": "stream",
     "text": [
      "Accuracy for UnigramTagger is 0.931729327374\n",
      "CPU times: user 2.28 s, sys: 23.3 ms, total: 2.3 s\n",
      "Wall time: 2.28 s\n"
     ]
    }
   ],
   "source": [
    "%%time\n",
    "utg = UnigramTagger(train=X_train)\n",
    "print 'Accuracy for UnigramTagger is', score_nltk(utg, X_test)"
   ]
  },
  {
   "cell_type": "code",
   "execution_count": 25,
   "metadata": {
    "collapsed": false
   },
   "outputs": [
    {
     "name": "stdout",
     "output_type": "stream",
     "text": [
      "Accuracy for UnigramTagger with backoff is 0.946579406641\n",
      "CPU times: user 3.14 s, sys: 46.7 ms, total: 3.19 s\n",
      "Wall time: 3.14 s\n"
     ]
    }
   ],
   "source": [
    "%%time\n",
    "utg = UnigramTagger(train=X_train, backoff=dtg)\n",
    "print 'Accuracy for UnigramTagger with backoff is', score_nltk(utg, X_test)"
   ]
  },
  {
   "cell_type": "markdown",
   "metadata": {},
   "source": [
    "UnigramTagger обучается на 1-граммах сопоставляя наиболее вероятный тэг слову. Т.е. нету зависимости от соседних слов. Если использовать backoff метод (например, DefaultTagger), то точность возрастает примерно на 1%. По времени и точности работает в среднем так же, как и HMM"
   ]
  },
  {
   "cell_type": "markdown",
   "metadata": {},
   "source": [
    "##### BigramTagger"
   ]
  },
  {
   "cell_type": "code",
   "execution_count": 26,
   "metadata": {
    "collapsed": false
   },
   "outputs": [
    {
     "name": "stdout",
     "output_type": "stream",
     "text": [
      "Accuracy for BigramTagger is 0.56312323381\n",
      "CPU times: user 3.74 s, sys: 66.7 ms, total: 3.81 s\n",
      "Wall time: 3.73 s\n"
     ]
    }
   ],
   "source": [
    "%%time\n",
    "btg = BigramTagger(train=X_train)\n",
    "print 'Accuracy for BigramTagger is', score_nltk(btg, X_test)"
   ]
  },
  {
   "cell_type": "code",
   "execution_count": 27,
   "metadata": {
    "collapsed": false
   },
   "outputs": [
    {
     "name": "stdout",
     "output_type": "stream",
     "text": [
      "Accuracy for BigramTagger is 0.95578739734\n",
      "CPU times: user 4.72 s, sys: 30 ms, total: 4.75 s\n",
      "Wall time: 4.69 s\n"
     ]
    }
   ],
   "source": [
    "%%time\n",
    "btg = BigramTagger(train=X_train, backoff=utg)\n",
    "print 'Accuracy for BigramTagger is', score_nltk(btg, X_test)"
   ]
  },
  {
   "cell_type": "markdown",
   "metadata": {},
   "source": [
    "BigramTagger работает аналогично UnigramTagger, только используется 2-граммы. Показывает слабый результат ~56%, но если использовать backoff (UnigramTagger), то точность резко возрастает до 95%."
   ]
  },
  {
   "cell_type": "markdown",
   "metadata": {},
   "source": [
    "##### TrigramTagger"
   ]
  },
  {
   "cell_type": "code",
   "execution_count": 28,
   "metadata": {
    "collapsed": false
   },
   "outputs": [
    {
     "name": "stdout",
     "output_type": "stream",
     "text": [
      "Accuracy for TrigramTagger is 0.356856383213\n",
      "CPU times: user 4.8 s, sys: 80 ms, total: 4.88 s\n",
      "Wall time: 4.79 s\n"
     ]
    }
   ],
   "source": [
    "%%time\n",
    "ttg = TrigramTagger(train=X_train)\n",
    "print 'Accuracy for TrigramTagger is', score_nltk(ttg, X_test)"
   ]
  },
  {
   "cell_type": "code",
   "execution_count": 29,
   "metadata": {
    "collapsed": false
   },
   "outputs": [
    {
     "name": "stdout",
     "output_type": "stream",
     "text": [
      "Accuracy for TrigramTagger is 0.955201580603\n",
      "CPU times: user 6.41 s, sys: 96.7 ms, total: 6.51 s\n",
      "Wall time: 6.36 s\n"
     ]
    }
   ],
   "source": [
    "%%time\n",
    "ttg = TrigramTagger(train=X_train, backoff=btg)\n",
    "print 'Accuracy for TrigramTagger is', score_nltk(ttg, X_test)"
   ]
  },
  {
   "cell_type": "markdown",
   "metadata": {},
   "source": [
    "TrigramTagger работает аналогично UnigramTagger, только используется 3-граммы. Показывает очень слабый результат ~35%, но если использовать хороший backoff (BigramTagger), то точность резко возрастает до 95%."
   ]
  },
  {
   "cell_type": "markdown",
   "metadata": {},
   "source": [
    " "
   ]
  },
  {
   "cell_type": "markdown",
   "metadata": {},
   "source": [
    "Далее тэггеры работают долго, поэтому выберем подвыборку adventure"
   ]
  },
  {
   "cell_type": "code",
   "execution_count": 30,
   "metadata": {
    "collapsed": true
   },
   "outputs": [],
   "source": [
    "X_tr, X_te = train_test_split(brown.tagged_sents(categories='adventure', tagset='universal'), train_size=0.9)"
   ]
  },
  {
   "cell_type": "markdown",
   "metadata": {},
   "source": [
    "##### StanfordPOSTagger"
   ]
  },
  {
   "cell_type": "code",
   "execution_count": 31,
   "metadata": {
    "collapsed": true
   },
   "outputs": [],
   "source": [
    "stanford_dir = 'data/stanford-postagger-full-2016-10-31/'\n",
    "modelfile = stanford_dir + 'models/english-bidirectional-distsim.tagger'\n",
    "jarfile = stanford_dir + 'stanford-postagger.jar'"
   ]
  },
  {
   "cell_type": "code",
   "execution_count": 32,
   "metadata": {
    "collapsed": false
   },
   "outputs": [
    {
     "name": "stdout",
     "output_type": "stream",
     "text": [
      "Accuracy for StanfordPOSTagger is 0.909158377335\n",
      "CPU times: user 243 ms, sys: 4.5 s, total: 4.74 s\n",
      "Wall time: 1min 36s\n"
     ]
    }
   ],
   "source": [
    "%%time\n",
    "stg = StanfordPOSTagger(model_filename=modelfile, path_to_jar=jarfile)\n",
    "print 'Accuracy for StanfordPOSTagger is', score_nltk(stg, X_te[:100], convert=True)"
   ]
  },
  {
   "cell_type": "markdown",
   "metadata": {},
   "source": [
    "StanfordPOSTagger ипользует модель максимальной энтропии. Работает очень долго. Модель уже использует обученные данные (english-bidirectional-distsim.tagger). Точность чуть хуже, но в среднем сопоставима с HMM"
   ]
  },
  {
   "cell_type": "markdown",
   "metadata": {},
   "source": [
    "##### BrillTagger"
   ]
  },
  {
   "cell_type": "code",
   "execution_count": 33,
   "metadata": {
    "collapsed": false
   },
   "outputs": [
    {
     "name": "stdout",
     "output_type": "stream",
     "text": [
      "CPU times: user 13.6 s, sys: 100 ms, total: 13.7 s\n",
      "Wall time: 13.6 s\n"
     ]
    }
   ],
   "source": [
    "%%time\n",
    "brtg_trainer = BrillTaggerTrainer(btg, nltk.brill.brill24())\n",
    "brtg = brtg_trainer.train(X_tr)"
   ]
  },
  {
   "cell_type": "code",
   "execution_count": 34,
   "metadata": {
    "collapsed": false
   },
   "outputs": [
    {
     "name": "stdout",
     "output_type": "stream",
     "text": [
      "Accuracy for BrillTagger is 0.978198589408\n"
     ]
    }
   ],
   "source": [
    "print 'Accuracy for BrillTagger is', score_nltk(brtg, X_te)"
   ]
  },
  {
   "cell_type": "markdown",
   "metadata": {},
   "source": [
    "BrillTagger работает максимизируя качество базового алгоритма в соответствии правилам (templates). На данных brown категории adventure показал очень хороший результат, лучший, чем у HMM. Но по времени проигрывает."
   ]
  },
  {
   "cell_type": "markdown",
   "metadata": {},
   "source": [
    "<b>В итоге можно заключить слеующее</b>:\n",
    "\n",
    "- HMM по критерию время-точность работает лучше всех\n",
    "- Если нужен очень хороший результат и не важно время работы, то BrillTagger лучший выбор"
   ]
  },
  {
   "cell_type": "markdown",
   "metadata": {
    "deletable": true,
    "editable": true
   },
   "source": [
    "### 2. Выделение именованных сущностей (NER)\n",
    "\n"
   ]
  },
  {
   "cell_type": "markdown",
   "metadata": {
    "deletable": true,
    "editable": true
   },
   "source": [
    "#### 2.1. Генерация признаков для CRF"
   ]
  },
  {
   "cell_type": "markdown",
   "metadata": {
    "deletable": true,
    "editable": true
   },
   "source": [
    "Выделение именованных сущностей - другая распространенная задача разметки последовательности слов. Чаще всего она решается марковскими моделями максимальной энтропии (MEMM) или условными случайными полями (CRF). При этом основная сложность заключается в генерации  хороших признаков. \n",
    "\n",
    "В данном задании Вам требуется придумать и использовать множество признаков для обучения CRF из библиотеки CRFsuite. В этой библиотеке реализована linear-chain CRF с потенциалами двух типов (аналогично HMM):\n",
    "\n",
    "$$ \\psi_{mk}(t_{i-1}, t_{i}) = [t_{i-1} = m] \\, [t_{i} = k]; \\quad \\psi_{jk}(t_{i}, x_i) = [t_{i} = k] \\, f_j(x_i)$$\n",
    "\n",
    "\n",
    "Потенциалы первого типа назвают transition features, они зависят только от биграмм меток. Потенциалы второго типа -- label-observation (node-observation) featrues; они зависят от метки и признаков наблюдаемого слова (observation features). Несмотря на то, что в формуле явно участвует текущее слово $x_i$, подход остается полностью корректным, когда признаки зависят также от контекста слова (соседних слов). Это следствие того, что CRF является дискриминативной моделью, и наблюдаемые переменные $X$ не моделируются. \n"
   ]
  },
  {
   "cell_type": "markdown",
   "metadata": {
    "deletable": true,
    "editable": true
   },
   "source": [
    "**Указания к заданию:** \n",
    "- Загрузите из NLTK обучающие и тестовые датасеты для задачи выделения именованных сущеностей CoNLL 2002 shared task на английском, испанском и голландском языках в BIO-нотации (nltk.corpus.conll2002).\n",
    "- Для обучения CRF модели библиотеке необходимо передать последовательность наблюдаемых признаков $f_j(x_i)$ и меток $y_i$. Ниже приведен весь технический код, который позволит сконцентрироваться только на самом творческом этапе -- генерации признаков.\n",
    "- Оцените качество приведенного решения. \n",
    "- Ваша задача заключается в том, чтобы повысить его. Помимо генерации новых признаков, можно обратить внимание на параметры обучения, в частности, feature.minfreq позволяет отсеивать редкие признаки.  \n",
    "- При проверке задания будет оцениваться как достигнутое качество, так и разнообразие/оригинальность использованных признаков. Если вы попробовали какие-то признаки, но они не помогли, также включите их в отчет. \n",
    "- Если у Вас закончилась фантазия, почитайте обзоры и статьи по теме.\n"
   ]
  },
  {
   "cell_type": "code",
   "execution_count": 68,
   "metadata": {
    "collapsed": true,
    "deletable": true,
    "editable": true
   },
   "outputs": [],
   "source": [
    "# Let's define very simple example features.\n",
    "\n",
    "def word2features(sent, i):\n",
    "    word = sent[i][0]\n",
    "    postag = sent[i][1]\n",
    "    features = [\n",
    "        'bias',\n",
    "        'word.lower=' + word.lower(),\n",
    "        'word[-3:]=' + word[-3:],\n",
    "        'word.isupper=%s' % word.isupper(),\n",
    "        'postag=' + postag,\n",
    "        # your code here\n",
    "    ]\n",
    "    if i > 0:\n",
    "        word1 = sent[i-1][0]\n",
    "        postag1 = sent[i-1][1]\n",
    "        features.extend([\n",
    "            '-1:word.lower=' + word1.lower(),\n",
    "            '-1:word.isupper=%s' % word1.isupper(),\n",
    "            '-1:postag=' + postag1,\n",
    "            # your code here\n",
    "        ])\n",
    "    else:\n",
    "        features.append('BOS')\n",
    "        \n",
    "    # your code here\n",
    "    \n",
    "    return features\n",
    "\n",
    "\n",
    "def sent2features(sent):\n",
    "    return [word2features(sent, i) for i in range(len(sent))]\n",
    "\n",
    "def sent2labels(sent):\n",
    "    return [label for token, postag, label in sent]"
   ]
  },
  {
   "cell_type": "code",
   "execution_count": 133,
   "metadata": {
    "collapsed": true,
    "deletable": true,
    "editable": true
   },
   "outputs": [],
   "source": [
    "# Let's prepare functions for more comfortable work with pycrfsuite.\n",
    "\n",
    "import pycrfsuite\n",
    "\n",
    "MODEL_NAME = 'model.crfsuite'\n",
    "\n",
    "def train(train):\n",
    "    X_train = [sent2features(s) for s in train]\n",
    "    y_train = [sent2labels(s) for s in train]\n",
    "\n",
    "    trainer = pycrfsuite.Trainer(verbose=False)\n",
    "\n",
    "    trainer.set_params({'c1': 1.0, 'c2': 1e-3, 'max_iterations': 50,\n",
    "                        'feature.possible_transitions': True})\n",
    "\n",
    "    for xseq, yseq in zip(X_train, y_train):\n",
    "        trainer.append(xseq, yseq)\n",
    "\n",
    "    trainer.train(MODEL_NAME)\n",
    "\n",
    "def evaluate(test):\n",
    "    X_test = [sent2features(s) for s in test]\n",
    "    y_test = [sent2labels(s) for s in test]\n",
    "\n",
    "    tagger = pycrfsuite.Tagger()\n",
    "    tagger.open(MODEL_NAME)\n",
    "\n",
    "    y_pred = [tagger.tag(x) for x in X_test]\n",
    "\n",
    "    true_counter, total_counter = 0.0, 0.0\n",
    "    for p, t in zip(y_pred, y_test):\n",
    "        assert len(p) == len(t)\n",
    "        total_counter += len(p)\n",
    "        true_counter += sum([str(i) == str(j) for i, j in zip(p, t)])\n",
    "    return true_counter / total_counter"
   ]
  },
  {
   "cell_type": "code",
   "execution_count": null,
   "metadata": {
    "collapsed": true,
    "deletable": true,
    "editable": true
   },
   "outputs": [],
   "source": [
    "# your code here"
   ]
  },
  {
   "cell_type": "markdown",
   "metadata": {
    "deletable": true,
    "editable": true
   },
   "source": [
    "#### 2.2. Stanford NER tagger\n",
    "\n",
    "Воспользуйтесь StanfordNERTagger для решения задачи NER на тех же тестовых данных, только для английского языка (обучать модель здесь не требуется). Приведите данные в соответствие нужному формату. Сравните результат с полученным выше. Настройка StanfordNERTagger производится аналогично настройке StanfordPOSTagger. В качестве готовой модели можно взять 'english.all.3class.distsim.crf.ser.gz'."
   ]
  },
  {
   "cell_type": "code",
   "execution_count": null,
   "metadata": {
    "collapsed": true,
    "deletable": true,
    "editable": true
   },
   "outputs": [],
   "source": [
    "# your code here"
   ]
  }
 ],
 "metadata": {
  "kernelspec": {
   "display_name": "Python 2",
   "language": "python",
   "name": "python2"
  },
  "language_info": {
   "codemirror_mode": {
    "name": "ipython",
    "version": 2
   },
   "file_extension": ".py",
   "mimetype": "text/x-python",
   "name": "python",
   "nbconvert_exporter": "python",
   "pygments_lexer": "ipython2",
   "version": "2.7.11"
  }
 },
 "nbformat": 4,
 "nbformat_minor": 0
}
