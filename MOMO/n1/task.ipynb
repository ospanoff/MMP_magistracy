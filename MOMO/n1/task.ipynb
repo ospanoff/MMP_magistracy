{
 "cells": [
  {
   "cell_type": "code",
   "execution_count": 62,
   "metadata": {
    "collapsed": true
   },
   "outputs": [],
   "source": [
    "import numpy as np"
   ]
  },
  {
   "cell_type": "code",
   "execution_count": 1,
   "metadata": {
    "collapsed": false
   },
   "outputs": [],
   "source": [
    "%load_ext autoreload\n",
    "%autoreload 1"
   ]
  },
  {
   "cell_type": "code",
   "execution_count": 2,
   "metadata": {
    "collapsed": true
   },
   "outputs": [],
   "source": [
    "%aimport optim1d"
   ]
  },
  {
   "cell_type": "code",
   "execution_count": 79,
   "metadata": {
    "collapsed": true
   },
   "outputs": [],
   "source": [
    "func = lambda x: -5 * (x ** 5) + 4 * (x ** 4) - 12 * (x ** 3) + 11 * (x ** 2) - 2 * x + 1\n",
    "a = -0.5\n",
    "b = 0.5"
   ]
  },
  {
   "cell_type": "code",
   "execution_count": 96,
   "metadata": {
    "collapsed": false
   },
   "outputs": [],
   "source": [
    "m = optim1d.min_golden(func, a, b, trace=True)"
   ]
  },
  {
   "cell_type": "code",
   "execution_count": 97,
   "metadata": {
    "collapsed": false
   },
   "outputs": [
    {
     "data": {
      "text/plain": [
       "{'f_min': 0.89763,\n",
       " 'hist': {'f': array([ 1.03078,  0.95256,  0.9245 ,  0.90285,  0.90366,  0.89781,\n",
       "          0.89891,  0.89763,  0.8977 ,  0.89766,  0.89764,  0.89764,\n",
       "          0.89763,  0.89763,  0.89763,  0.89763,  0.89763,  0.89763,\n",
       "          0.89763,  0.89763,  0.89763,  0.89763,  0.89763]),\n",
       "  'x': array([ 0.26393,  0.02786,  0.17376,  0.08359,  0.13932,  0.10488,\n",
       "          0.09675,  0.1099 ,  0.11301,  0.10798,  0.11109,  0.10917,\n",
       "          0.11036,  0.10962,  0.11008,  0.1098 ,  0.10997,  0.10986,\n",
       "          0.10984,  0.10988,  0.10985,  0.10987,  0.10986])},\n",
       " 'n_evals': 25,\n",
       " 'status': 0,\n",
       " 'x_min': 0.10986}"
      ]
     },
     "execution_count": 97,
     "metadata": {},
     "output_type": "execute_result"
    }
   ],
   "source": [
    "m"
   ]
  },
  {
   "cell_type": "code",
   "execution_count": null,
   "metadata": {
    "collapsed": true
   },
   "outputs": [],
   "source": []
  }
 ],
 "metadata": {
  "kernelspec": {
   "display_name": "Python 3",
   "language": "python",
   "name": "python3"
  },
  "language_info": {
   "codemirror_mode": {
    "name": "ipython",
    "version": 3
   },
   "file_extension": ".py",
   "mimetype": "text/x-python",
   "name": "python",
   "nbconvert_exporter": "python",
   "pygments_lexer": "ipython3",
   "version": "3.5.1"
  }
 },
 "nbformat": 4,
 "nbformat_minor": 1
}
