{
 "cells": [
  {
   "cell_type": "code",
   "execution_count": 1,
   "metadata": {
    "collapsed": true
   },
   "outputs": [],
   "source": [
    "%matplotlib inline\n",
    "import numpy as np\n",
    "import matplotlib.pyplot as plt"
   ]
  },
  {
   "cell_type": "code",
   "execution_count": 2,
   "metadata": {
    "collapsed": false
   },
   "outputs": [],
   "source": [
    "%load_ext autoreload\n",
    "%autoreload 1"
   ]
  },
  {
   "cell_type": "code",
   "execution_count": 3,
   "metadata": {
    "collapsed": true
   },
   "outputs": [],
   "source": [
    "%aimport optim1d"
   ]
  },
  {
   "cell_type": "code",
   "execution_count": 4,
   "metadata": {
    "collapsed": true
   },
   "outputs": [],
   "source": [
    "func = lambda x: -5 * (x ** 5) + 4 * (x ** 4) - 12 * (x ** 3) + 11 * (x ** 2) - 2 * x + 1\n",
    "a = -0.5\n",
    "b = 0.5"
   ]
  },
  {
   "cell_type": "code",
   "execution_count": 5,
   "metadata": {
    "collapsed": false
   },
   "outputs": [
    {
     "name": "stdout",
     "output_type": "stream",
     "text": [
      "iter. #1:\tx= 0.26393,\tf= 1.03078,\tI= 0.38197\n",
      "iter. #2:\tx= 0.02786,\tf= 0.95256,\tI= 0.23607\n",
      "iter. #3:\tx= 0.17376,\tf= 0.92450,\tI= 0.14590\n",
      "iter. #4:\tx= 0.08359,\tf= 0.90285,\tI= 0.09017\n",
      "iter. #5:\tx= 0.13932,\tf= 0.90366,\tI= 0.05573\n",
      "iter. #6:\tx= 0.10488,\tf= 0.89781,\tI= 0.03444\n",
      "iter. #7:\tx= 0.09675,\tf= 0.89891,\tI= 0.02129\n",
      "iter. #8:\tx= 0.10990,\tf= 0.89763,\tI= 0.01316\n",
      "iter. #9:\tx= 0.11301,\tf= 0.89770,\tI= 0.00813\n",
      "iter. #10:\tx= 0.10798,\tf= 0.89766,\tI= 0.00502\n",
      "iter. #11:\tx= 0.11109,\tf= 0.89764,\tI= 0.00311\n",
      "iter. #12:\tx= 0.10917,\tf= 0.89764,\tI= 0.00192\n",
      "iter. #13:\tx= 0.11036,\tf= 0.89763,\tI= 0.00119\n",
      "iter. #14:\tx= 0.10962,\tf= 0.89763,\tI= 0.00073\n",
      "iter. #15:\tx= 0.11008,\tf= 0.89763,\tI= 0.00045\n",
      "iter. #16:\tx= 0.10980,\tf= 0.89763,\tI= 0.00028\n",
      "iter. #17:\tx= 0.10997,\tf= 0.89763,\tI= 0.00017\n",
      "iter. #18:\tx= 0.10986,\tf= 0.89763,\tI= 0.00011\n",
      "iter. #19:\tx= 0.10984,\tf= 0.89763,\tI= 0.00007\n",
      "iter. #20:\tx= 0.10988,\tf= 0.89763,\tI= 0.00004\n",
      "iter. #21:\tx= 0.10985,\tf= 0.89763,\tI= 0.00003\n",
      "iter. #22:\tx= 0.10987,\tf= 0.89763,\tI= 0.00002\n",
      "iter. #23:\tx= 0.10986,\tf= 0.89763,\tI= 0.00001\n"
     ]
    },
    {
     "data": {
      "text/plain": [
       "{'f_min': 0.897633,\n",
       " 'hist': {'f': array([ 1.03078,  0.95256,  0.9245 ,  0.90285,  0.90366,  0.89781,\n",
       "          0.89891,  0.89763,  0.8977 ,  0.89766,  0.89764,  0.89764,\n",
       "          0.89763,  0.89763,  0.89763,  0.89763,  0.89763,  0.89763,\n",
       "          0.89763,  0.89763,  0.89763,  0.89763,  0.89763]),\n",
       "  'x': array([ 0.26393,  0.02786,  0.17376,  0.08359,  0.13932,  0.10488,\n",
       "          0.09675,  0.1099 ,  0.11301,  0.10798,  0.11109,  0.10917,\n",
       "          0.11036,  0.10962,  0.11008,  0.1098 ,  0.10997,  0.10986,\n",
       "          0.10984,  0.10988,  0.10985,  0.10987,  0.10986])},\n",
       " 'n_evals': array([ 3,  4,  5,  6,  7,  8,  9, 10, 11, 12, 13, 14, 15, 16, 17, 18, 19,\n",
       "        20, 21, 22, 23, 24, 25]),\n",
       " 'status': 0,\n",
       " 'x_min': 0.109859}"
      ]
     },
     "execution_count": 5,
     "metadata": {},
     "output_type": "execute_result"
    }
   ],
   "source": [
    "optim1d.min_golden(func, a, b, disp=True, trace=True)"
   ]
  },
  {
   "cell_type": "code",
   "execution_count": 6,
   "metadata": {
    "collapsed": false
   },
   "outputs": [
    {
     "name": "stdout",
     "output_type": "stream",
     "text": [
      "iter. #1:\tx= 0.22135,\tf= 0.97306,\tx_l=-0.50000\tx_r= 0.50000\n",
      "iter. #2:\tx= 0.13163,\tf= 0.90097,\tx_l= 0.00000\tx_r= 0.50000\n",
      "iter. #3:\tx= 0.11933,\tf= 0.89828,\tx_l= 0.00000\tx_r= 0.22135\n",
      "iter. #4:\tx= 0.11204,\tf= 0.89767,\tx_l= 0.00000\tx_r= 0.13163\n",
      "iter. #5:\tx= 0.11069,\tf= 0.89764,\tx_l= 0.00000\tx_r= 0.11933\n",
      "iter. #6:\tx= 0.11007,\tf= 0.89763,\tx_l= 0.00000\tx_r= 0.11204\n",
      "iter. #7:\tx= 0.10993,\tf= 0.89763,\tx_l= 0.00000\tx_r= 0.11069\n",
      "iter. #8:\tx= 0.10988,\tf= 0.89763,\tx_l= 0.00000\tx_r= 0.11007\n",
      "iter. #9:\tx= 0.10987,\tf= 0.89763,\tx_l= 0.00000\tx_r= 0.10993\n"
     ]
    },
    {
     "data": {
      "text/plain": [
       "{'f_min': 0.897633,\n",
       " 'hist': {'f': array([ 0.97306,  0.90097,  0.89828,  0.89767,  0.89764,  0.89763,\n",
       "          0.89763,  0.89763,  0.89763]),\n",
       "  'x': array([ 0.22135,  0.13163,  0.11933,  0.11204,  0.11069,  0.11007,\n",
       "          0.10993,  0.10988,  0.10987])},\n",
       " 'n_evals': array([ 4,  5,  6,  7,  8,  9, 10, 11, 12]),\n",
       " 'status': 0,\n",
       " 'x_min': 0.109867}"
      ]
     },
     "execution_count": 6,
     "metadata": {},
     "output_type": "execute_result"
    }
   ],
   "source": [
    "optim1d.min_parabolic(func, a, b, disp=True, trace=True)"
   ]
  },
  {
   "cell_type": "code",
   "execution_count": 7,
   "metadata": {
    "collapsed": false
   },
   "outputs": [
    {
     "name": "stdout",
     "output_type": "stream",
     "text": [
      "iter. #1:\tx= 0.11803,\tf= 0.89811,\tdist= 0.23607\t method=golden\n",
      "iter. #2:\tx= 0.26393,\tf= 1.03078,\tdist= 0.14590\t method=golden\n",
      "iter. #3:\tx= 0.13455,\tf= 0.90190,\tdist= 0.01652\t method=parabolic\n",
      "iter. #4:\tx= 0.10447,\tf= 0.89785,\tdist= 0.01357\t method=parabolic\n",
      "iter. #5:\tx= 0.10984,\tf= 0.89763,\tdist= 0.00537\t method=parabolic\n",
      "iter. #6:\tx= 0.10989,\tf= 0.89763,\tdist= 0.00005\t method=parabolic\n",
      "iter. #7:\tx= 0.10779,\tf= 0.89766,\tdist= 0.00205\t method=golden\n",
      "iter. #8:\tx= 0.10906,\tf= 0.89764,\tdist= 0.00078\t method=golden\n",
      "iter. #9:\tx= 0.10954,\tf= 0.89763,\tdist= 0.00030\t method=golden\n",
      "iter. #10:\tx= 0.10973,\tf= 0.89763,\tdist= 0.00011\t method=golden\n",
      "iter. #11:\tx= 0.10980,\tf= 0.89763,\tdist= 0.00004\t method=golden\n",
      "iter. #12:\tx= 0.10986,\tf= 0.89763,\tdist= 0.00002\t method=golden\n",
      "iter. #13:\tx= 0.10987,\tf= 0.89763,\tdist= 0.00001\t method=golden\n",
      "iter. #14:\tx= 0.10985,\tf= 0.89763,\tdist= 0.00001\t method=golden\n",
      "iter. #15:\tx= 0.10987,\tf= 0.89763,\tdist= 0.00000\t method=golden\n",
      "iter. #16:\tx= 0.10986,\tf= 0.89763,\tdist= 0.00000\t method=golden\n",
      "iter. #17:\tx= 0.10986,\tf= 0.89763,\tdist= 0.00000\t method=golden\n"
     ]
    },
    {
     "data": {
      "text/plain": [
       "{'f_min': 0.89763300000000001,\n",
       " 'hist': {'f': array([ 0.89811,  1.03078,  0.9019 ,  0.89785,  0.89763,  0.89763,\n",
       "          0.89766,  0.89764,  0.89763,  0.89763,  0.89763,  0.89763,\n",
       "          0.89763,  0.89763,  0.89763,  0.89763,  0.89763]),\n",
       "  'x': array([ 0.11803,  0.26393,  0.13455,  0.10447,  0.10984,  0.10989,\n",
       "          0.10779,  0.10906,  0.10954,  0.10973,  0.1098 ,  0.10986,\n",
       "          0.10987,  0.10985,  0.10987,  0.10986,  0.10986])},\n",
       " 'n_evals': array([ 2,  3,  4,  5,  6,  7,  8,  9, 10, 11, 12, 13, 14, 15, 16, 17, 18]),\n",
       " 'status': 0,\n",
       " 'x_min': 0.109863}"
      ]
     },
     "execution_count": 7,
     "metadata": {},
     "output_type": "execute_result"
    }
   ],
   "source": [
    "optim1d.min_brent(func, a, b, disp=True, trace=True)"
   ]
  },
  {
   "cell_type": "code",
   "execution_count": null,
   "metadata": {
    "collapsed": true
   },
   "outputs": [],
   "source": []
  },
  {
   "cell_type": "code",
   "execution_count": 8,
   "metadata": {
    "collapsed": false
   },
   "outputs": [],
   "source": [
    "func = lambda x: 0.2 * x * np.log(x) + (x - 2.3) ** 2\n",
    "a = 0.5\n",
    "b = 2.5"
   ]
  },
  {
   "cell_type": "code",
   "execution_count": 9,
   "metadata": {
    "collapsed": false
   },
   "outputs": [
    {
     "name": "stdout",
     "output_type": "stream",
     "text": [
      "iter. #1:\tx= 2.02786,\tf= 0.36079,\tI= 0.76393\n",
      "iter. #2:\tx= 2.20820,\tf= 0.35829,\tI= 0.47214\n",
      "iter. #3:\tx= 2.31966,\tf= 0.39075,\tI= 0.29180\n",
      "iter. #4:\tx= 2.13932,\tf= 0.35120,\tI= 0.18034\n",
      "iter. #5:\tx= 2.09675,\tf= 0.35179,\tI= 0.11146\n",
      "iter. #6:\tx= 2.16563,\tf= 0.35274,\tI= 0.06888\n",
      "iter. #7:\tx= 2.12306,\tf= 0.35098,\tI= 0.04257\n",
      "iter. #8:\tx= 2.11301,\tf= 0.35112,\tI= 0.02631\n",
      "iter. #9:\tx= 2.12927,\tf= 0.35100,\tI= 0.01626\n",
      "iter. #10:\tx= 2.11922,\tf= 0.35101,\tI= 0.01005\n",
      "iter. #11:\tx= 2.12543,\tf= 0.35098,\tI= 0.00621\n",
      "iter. #12:\tx= 2.12690,\tf= 0.35098,\tI= 0.00384\n",
      "iter. #13:\tx= 2.12453,\tf= 0.35098,\tI= 0.00237\n",
      "iter. #14:\tx= 2.12397,\tf= 0.35098,\tI= 0.00147\n",
      "iter. #15:\tx= 2.12487,\tf= 0.35098,\tI= 0.00091\n",
      "iter. #16:\tx= 2.12431,\tf= 0.35098,\tI= 0.00056\n",
      "iter. #17:\tx= 2.12466,\tf= 0.35098,\tI= 0.00035\n",
      "iter. #18:\tx= 2.12474,\tf= 0.35098,\tI= 0.00021\n",
      "iter. #19:\tx= 2.12461,\tf= 0.35098,\tI= 0.00013\n",
      "iter. #20:\tx= 2.12469,\tf= 0.35098,\tI= 0.00008\n",
      "iter. #21:\tx= 2.12464,\tf= 0.35098,\tI= 0.00005\n",
      "iter. #22:\tx= 2.12463,\tf= 0.35098,\tI= 0.00003\n",
      "iter. #23:\tx= 2.12465,\tf= 0.35098,\tI= 0.00002\n",
      "iter. #24:\tx= 2.12463,\tf= 0.35098,\tI= 0.00001\n",
      "iter. #25:\tx= 2.12464,\tf= 0.35098,\tI= 0.00001\n"
     ]
    },
    {
     "data": {
      "text/plain": [
       "{'f_min': 0.35097800000000001,\n",
       " 'hist': {'f': array([ 0.36079,  0.35829,  0.39075,  0.3512 ,  0.35179,  0.35274,\n",
       "          0.35098,  0.35112,  0.351  ,  0.35101,  0.35098,  0.35098,\n",
       "          0.35098,  0.35098,  0.35098,  0.35098,  0.35098,  0.35098,\n",
       "          0.35098,  0.35098,  0.35098,  0.35098,  0.35098,  0.35098,  0.35098]),\n",
       "  'x': array([ 2.02786,  2.2082 ,  2.31966,  2.13932,  2.09675,  2.16563,\n",
       "          2.12306,  2.11301,  2.12927,  2.11922,  2.12543,  2.1269 ,\n",
       "          2.12453,  2.12397,  2.12487,  2.12431,  2.12466,  2.12474,\n",
       "          2.12461,  2.12469,  2.12464,  2.12463,  2.12465,  2.12463,  2.12464])},\n",
       " 'n_evals': array([ 3,  4,  5,  6,  7,  8,  9, 10, 11, 12, 13, 14, 15, 16, 17, 18, 19,\n",
       "        20, 21, 22, 23, 24, 25, 26, 27]),\n",
       " 'status': 0,\n",
       " 'x_min': 2.124641}"
      ]
     },
     "execution_count": 9,
     "metadata": {},
     "output_type": "execute_result"
    }
   ],
   "source": [
    "optim1d.min_golden(func, a, b, disp=True, trace=True)"
   ]
  },
  {
   "cell_type": "code",
   "execution_count": 10,
   "metadata": {
    "collapsed": false
   },
   "outputs": [
    {
     "name": "stdout",
     "output_type": "stream",
     "text": [
      "iter. #1:\tx= 2.12281,\tf= 0.35098,\tx_l= 0.50000\tx_r= 2.50000\n",
      "iter. #2:\tx= 2.12553,\tf= 0.35098,\tx_l= 1.50000\tx_r= 2.50000\n",
      "iter. #3:\tx= 2.12464,\tf= 0.35098,\tx_l= 2.12281\tx_r= 2.50000\n"
     ]
    },
    {
     "data": {
      "text/plain": [
       "{'f_min': 0.35097800000000001,\n",
       " 'hist': {'f': array([ 0.35098,  0.35098,  0.35098]),\n",
       "  'x': array([ 2.12281,  2.12553,  2.12464])},\n",
       " 'n_evals': array([4, 5, 6]),\n",
       " 'status': 0,\n",
       " 'x_min': 2.124641}"
      ]
     },
     "execution_count": 10,
     "metadata": {},
     "output_type": "execute_result"
    }
   ],
   "source": [
    "optim1d.min_parabolic(func, a, b, disp=True, trace=True)"
   ]
  },
  {
   "cell_type": "code",
   "execution_count": 11,
   "metadata": {
    "collapsed": false
   },
   "outputs": [
    {
     "name": "stdout",
     "output_type": "stream",
     "text": [
      "iter. #1:\tx= 1.73607,\tf= 0.50955,\tdist= 0.47214\t method=golden\n",
      "iter. #2:\tx= 2.02786,\tf= 0.36079,\tdist= 0.29180\t method=golden\n",
      "iter. #3:\tx= 2.12239,\tf= 0.35098,\tdist= 0.09453\t method=parabolic\n",
      "iter. #4:\tx= 2.12449,\tf= 0.35098,\tdist= 0.00210\t method=parabolic\n",
      "iter. #5:\tx= 2.26792,\tf= 0.37245,\tdist= 0.14343\t method=golden\n",
      "iter. #6:\tx= 2.17927,\tf= 0.35410,\tdist= 0.05479\t method=golden\n",
      "iter. #7:\tx= 2.14541,\tf= 0.35143,\tdist= 0.02093\t method=golden\n",
      "iter. #8:\tx= 2.13248,\tf= 0.35104,\tdist= 0.00799\t method=golden\n",
      "iter. #9:\tx= 2.12754,\tf= 0.35099,\tdist= 0.00305\t method=golden\n",
      "iter. #10:\tx= 2.12565,\tf= 0.35098,\tdist= 0.00117\t method=golden\n",
      "iter. #11:\tx= 2.12369,\tf= 0.35098,\tdist= 0.00080\t method=golden\n",
      "iter. #12:\tx= 2.12493,\tf= 0.35098,\tdist= 0.00045\t method=golden\n",
      "iter. #13:\tx= 2.12418,\tf= 0.35098,\tdist= 0.00031\t method=golden\n",
      "iter. #14:\tx= 2.12466,\tf= 0.35098,\tdist= 0.00017\t method=golden\n",
      "iter. #15:\tx= 2.12476,\tf= 0.35098,\tdist= 0.00011\t method=golden\n",
      "iter. #16:\tx= 2.12459,\tf= 0.35098,\tdist= 0.00006\t method=golden\n",
      "iter. #17:\tx= 2.12470,\tf= 0.35098,\tdist= 0.00004\t method=golden\n",
      "iter. #18:\tx= 2.12463,\tf= 0.35098,\tdist= 0.00002\t method=golden\n"
     ]
    },
    {
     "data": {
      "text/plain": [
       "{'f_min': 0.35097800000000001,\n",
       " 'hist': {'f': array([ 0.50955,  0.36079,  0.35098,  0.35098,  0.37245,  0.3541 ,\n",
       "          0.35143,  0.35104,  0.35099,  0.35098,  0.35098,  0.35098,\n",
       "          0.35098,  0.35098,  0.35098,  0.35098,  0.35098,  0.35098]),\n",
       "  'x': array([ 1.73607,  2.02786,  2.12239,  2.12449,  2.26792,  2.17927,\n",
       "          2.14541,  2.13248,  2.12754,  2.12565,  2.12369,  2.12493,\n",
       "          2.12418,  2.12466,  2.12476,  2.12459,  2.1247 ,  2.12463])},\n",
       " 'n_evals': array([ 2,  3,  4,  5,  6,  7,  8,  9, 10, 11, 12, 13, 14, 15, 16, 17, 18,\n",
       "        19]),\n",
       " 'status': 0,\n",
       " 'x_min': 2.1246320000000001}"
      ]
     },
     "execution_count": 11,
     "metadata": {},
     "output_type": "execute_result"
    }
   ],
   "source": [
    "optim1d.min_brent(func, a, b, disp=True, trace=True)"
   ]
  }
 ],
 "metadata": {
  "kernelspec": {
   "display_name": "Python 3",
   "language": "python",
   "name": "python3"
  },
  "language_info": {
   "codemirror_mode": {
    "name": "ipython",
    "version": 3
   },
   "file_extension": ".py",
   "mimetype": "text/x-python",
   "name": "python",
   "nbconvert_exporter": "python",
   "pygments_lexer": "ipython3",
   "version": "3.5.1"
  }
 },
 "nbformat": 4,
 "nbformat_minor": 1
}
