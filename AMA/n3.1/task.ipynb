{
 "cells": [
  {
   "cell_type": "code",
   "execution_count": 1,
   "metadata": {
    "collapsed": false
   },
   "outputs": [],
   "source": [
    "import pandas as pd\n",
    "import numpy as np"
   ]
  },
  {
   "cell_type": "markdown",
   "metadata": {
    "collapsed": false
   },
   "source": [
    "## Загрузка данных"
   ]
  },
  {
   "cell_type": "code",
   "execution_count": 2,
   "metadata": {
    "collapsed": false
   },
   "outputs": [],
   "source": [
    "transactions = pd.read_csv('data/transactions.csv')\n",
    "customers_gender_train = pd.read_csv('data/customers_gender_train.csv')"
   ]
  },
  {
   "cell_type": "markdown",
   "metadata": {},
   "source": [
    "## Формирование таблицы"
   ]
  },
  {
   "cell_type": "code",
   "execution_count": 3,
   "metadata": {
    "collapsed": false
   },
   "outputs": [
    {
     "data": {
      "text/html": [
       "<div>\n",
       "<table border=\"1\" class=\"dataframe\">\n",
       "  <thead>\n",
       "    <tr style=\"text-align: right;\">\n",
       "      <th></th>\n",
       "      <th>customer_id</th>\n",
       "      <th>mcc_code</th>\n",
       "      <th>tr_type</th>\n",
       "      <th>amount</th>\n",
       "      <th>term_id</th>\n",
       "      <th>num_day</th>\n",
       "      <th>hour</th>\n",
       "      <th>week_day</th>\n",
       "      <th>active_period</th>\n",
       "    </tr>\n",
       "  </thead>\n",
       "  <tbody>\n",
       "    <tr>\n",
       "      <th>0</th>\n",
       "      <td>39026145</td>\n",
       "      <td>4814</td>\n",
       "      <td>1030</td>\n",
       "      <td>-2245.92</td>\n",
       "      <td>NaN</td>\n",
       "      <td>0</td>\n",
       "      <td>10</td>\n",
       "      <td>4</td>\n",
       "      <td>445</td>\n",
       "    </tr>\n",
       "    <tr>\n",
       "      <th>1</th>\n",
       "      <td>39026145</td>\n",
       "      <td>6011</td>\n",
       "      <td>7010</td>\n",
       "      <td>56147.89</td>\n",
       "      <td>NaN</td>\n",
       "      <td>1</td>\n",
       "      <td>10</td>\n",
       "      <td>5</td>\n",
       "      <td>445</td>\n",
       "    </tr>\n",
       "    <tr>\n",
       "      <th>2</th>\n",
       "      <td>39026145</td>\n",
       "      <td>4829</td>\n",
       "      <td>2330</td>\n",
       "      <td>-56147.89</td>\n",
       "      <td>NaN</td>\n",
       "      <td>1</td>\n",
       "      <td>10</td>\n",
       "      <td>5</td>\n",
       "      <td>445</td>\n",
       "    </tr>\n",
       "    <tr>\n",
       "      <th>3</th>\n",
       "      <td>39026145</td>\n",
       "      <td>5499</td>\n",
       "      <td>1010</td>\n",
       "      <td>-1392.47</td>\n",
       "      <td>NaN</td>\n",
       "      <td>1</td>\n",
       "      <td>10</td>\n",
       "      <td>5</td>\n",
       "      <td>445</td>\n",
       "    </tr>\n",
       "    <tr>\n",
       "      <th>4</th>\n",
       "      <td>39026145</td>\n",
       "      <td>5499</td>\n",
       "      <td>1010</td>\n",
       "      <td>-920.83</td>\n",
       "      <td>NaN</td>\n",
       "      <td>2</td>\n",
       "      <td>15</td>\n",
       "      <td>6</td>\n",
       "      <td>445</td>\n",
       "    </tr>\n",
       "  </tbody>\n",
       "</table>\n",
       "</div>"
      ],
      "text/plain": [
       "   customer_id  mcc_code  tr_type    amount term_id  num_day  hour  week_day  \\\n",
       "0     39026145      4814     1030  -2245.92     NaN        0    10         4   \n",
       "1     39026145      6011     7010  56147.89     NaN        1    10         5   \n",
       "2     39026145      4829     2330 -56147.89     NaN        1    10         5   \n",
       "3     39026145      5499     1010  -1392.47     NaN        1    10         5   \n",
       "4     39026145      5499     1010   -920.83     NaN        2    15         6   \n",
       "\n",
       "   active_period  \n",
       "0            445  \n",
       "1            445  \n",
       "2            445  \n",
       "3            445  \n",
       "4            445  "
      ]
     },
     "execution_count": 3,
     "metadata": {},
     "output_type": "execute_result"
    }
   ],
   "source": [
    "transactions['num_day'] = transactions['tr_datetime'].apply(lambda x: int(x.split(' ')[0]))\n",
    "transactions['datetime'] = transactions['tr_datetime'].apply(lambda x: x.split(' ')[1])\n",
    "transactions['hour'] = transactions['datetime'].apply(lambda x: int(x.split(':')[0]))\n",
    "transactions['week_day'] = transactions['num_day'].apply(lambda x: (x + 4) % 7)\n",
    "transactions.drop('tr_datetime', axis=1, inplace=True)\n",
    "transactions.drop('datetime', axis=1, inplace=True)\n",
    "\n",
    "active_days = transactions.groupby('customer_id').apply(lambda x: (max(x[['num_day']].values) - min(x[['num_day']].values))[0])\n",
    "active_days = active_days.reset_index()\n",
    "active_days.columns = ['customer_id', 'active_period']\n",
    "\n",
    "transactions = pd.merge(transactions, active_days, on='customer_id', how='outer')\n",
    "del active_days\n",
    "\n",
    "transactions[:5]"
   ]
  },
  {
   "cell_type": "markdown",
   "metadata": {
    "collapsed": true
   },
   "source": [
    "## Формирование выборки"
   ]
  },
  {
   "cell_type": "markdown",
   "metadata": {},
   "source": [
    "###### Создание выборки"
   ]
  },
  {
   "cell_type": "code",
   "execution_count": 4,
   "metadata": {
    "collapsed": false
   },
   "outputs": [],
   "source": [
    "ids = transactions.customer_id.unique()\n",
    "X = pd.DataFrame(index=ids)\n",
    "X.reset_index(inplace=True)\n",
    "X.columns = ['customer_id']\n",
    "\n",
    "X = pd.merge(X, customers_gender_train, on='customer_id', how='left')\n",
    "del customers_gender_train"
   ]
  },
  {
   "cell_type": "markdown",
   "metadata": {},
   "source": [
    "###### Количество трат по дням недели за активный период"
   ]
  },
  {
   "cell_type": "code",
   "execution_count": 5,
   "metadata": {
    "collapsed": false
   },
   "outputs": [
    {
     "data": {
      "text/html": [
       "<div>\n",
       "<table border=\"1\" class=\"dataframe\">\n",
       "  <thead>\n",
       "    <tr style=\"text-align: right;\">\n",
       "      <th></th>\n",
       "      <th>customer_id</th>\n",
       "      <th>gender</th>\n",
       "      <th>0</th>\n",
       "      <th>1</th>\n",
       "      <th>2</th>\n",
       "      <th>3</th>\n",
       "      <th>4</th>\n",
       "      <th>5</th>\n",
       "      <th>6</th>\n",
       "    </tr>\n",
       "  </thead>\n",
       "  <tbody>\n",
       "    <tr>\n",
       "      <th>0</th>\n",
       "      <td>39026145</td>\n",
       "      <td>1.0</td>\n",
       "      <td>0.320628</td>\n",
       "      <td>0.376682</td>\n",
       "      <td>0.318386</td>\n",
       "      <td>0.318386</td>\n",
       "      <td>0.325112</td>\n",
       "      <td>0.414798</td>\n",
       "      <td>0.271300</td>\n",
       "    </tr>\n",
       "    <tr>\n",
       "      <th>1</th>\n",
       "      <td>52220754</td>\n",
       "      <td>1.0</td>\n",
       "      <td>0.287611</td>\n",
       "      <td>0.303097</td>\n",
       "      <td>0.219027</td>\n",
       "      <td>0.252212</td>\n",
       "      <td>0.283186</td>\n",
       "      <td>0.219027</td>\n",
       "      <td>0.188053</td>\n",
       "    </tr>\n",
       "    <tr>\n",
       "      <th>2</th>\n",
       "      <td>78029866</td>\n",
       "      <td>NaN</td>\n",
       "      <td>0.354486</td>\n",
       "      <td>0.308534</td>\n",
       "      <td>0.286652</td>\n",
       "      <td>0.286652</td>\n",
       "      <td>0.468271</td>\n",
       "      <td>0.269147</td>\n",
       "      <td>0.133479</td>\n",
       "    </tr>\n",
       "    <tr>\n",
       "      <th>3</th>\n",
       "      <td>79780256</td>\n",
       "      <td>1.0</td>\n",
       "      <td>0.038095</td>\n",
       "      <td>0.057143</td>\n",
       "      <td>0.042857</td>\n",
       "      <td>0.040476</td>\n",
       "      <td>0.054762</td>\n",
       "      <td>0.035714</td>\n",
       "      <td>0.045238</td>\n",
       "    </tr>\n",
       "    <tr>\n",
       "      <th>4</th>\n",
       "      <td>1585299</td>\n",
       "      <td>1.0</td>\n",
       "      <td>0.269147</td>\n",
       "      <td>0.234136</td>\n",
       "      <td>0.207877</td>\n",
       "      <td>0.229759</td>\n",
       "      <td>0.380744</td>\n",
       "      <td>0.330416</td>\n",
       "      <td>0.218818</td>\n",
       "    </tr>\n",
       "  </tbody>\n",
       "</table>\n",
       "</div>"
      ],
      "text/plain": [
       "   customer_id  gender         0         1         2         3         4  \\\n",
       "0     39026145     1.0  0.320628  0.376682  0.318386  0.318386  0.325112   \n",
       "1     52220754     1.0  0.287611  0.303097  0.219027  0.252212  0.283186   \n",
       "2     78029866     NaN  0.354486  0.308534  0.286652  0.286652  0.468271   \n",
       "3     79780256     1.0  0.038095  0.057143  0.042857  0.040476  0.054762   \n",
       "4      1585299     1.0  0.269147  0.234136  0.207877  0.229759  0.380744   \n",
       "\n",
       "          5         6  \n",
       "0  0.414798  0.271300  \n",
       "1  0.219027  0.188053  \n",
       "2  0.269147  0.133479  \n",
       "3  0.035714  0.045238  \n",
       "4  0.330416  0.218818  "
      ]
     },
     "execution_count": 5,
     "metadata": {},
     "output_type": "execute_result"
    }
   ],
   "source": [
    "tmp = transactions.groupby(['customer_id', 'week_day']).apply(\n",
    "    lambda x: x.amount.size / (x.active_period.max() + 1)\n",
    ").unstack().reset_index()\n",
    "\n",
    "X = pd.merge(X, tmp, on='customer_id', how='left')\n",
    "del tmp\n",
    "X[:5]"
   ]
  },
  {
   "cell_type": "markdown",
   "metadata": {},
   "source": [
    "###### Промежуток дня, в котором больше всего транзакций"
   ]
  },
  {
   "cell_type": "code",
   "execution_count": 6,
   "metadata": {
    "collapsed": true
   },
   "outputs": [],
   "source": [
    "def daylight(df):\n",
    "    hour = df.hour.mode()\n",
    "    if hour.size == 0:\n",
    "        tmp = np.unique(df.hour.values, return_counts=True)\n",
    "        hour = tmp[0][tmp[1].argmax()]\n",
    "    else:\n",
    "        hour = hour[0]\n",
    "\n",
    "    m, d, e, n = 0, 0, 0, 0\n",
    "    if 6 <= hour <= 10:\n",
    "        m = 1\n",
    "    \n",
    "    elif 10 < hour <= 18:\n",
    "        d = 1\n",
    "    \n",
    "    elif 18 < hour <= 23:\n",
    "        e = 1\n",
    "    \n",
    "    else:\n",
    "        n = 1\n",
    "    \n",
    "    return pd.Series({'morning': m, 'day': d, 'evening': e, 'night': n})"
   ]
  },
  {
   "cell_type": "code",
   "execution_count": 7,
   "metadata": {
    "collapsed": false
   },
   "outputs": [],
   "source": [
    "# tmp = transactions.groupby('customer_id').apply(daylight).reset_index()\n",
    "\n",
    "# X = pd.merge(X, tmp, on='customer_id', how='left')\n",
    "# del tmp\n",
    "# X[:5]"
   ]
  },
  {
   "cell_type": "markdown",
   "metadata": {},
   "source": [
    "###### Нормированные суммы положительные и отрицательные транзакции"
   ]
  },
  {
   "cell_type": "code",
   "execution_count": 8,
   "metadata": {
    "collapsed": false
   },
   "outputs": [
    {
     "data": {
      "text/html": [
       "<div>\n",
       "<table border=\"1\" class=\"dataframe\">\n",
       "  <thead>\n",
       "    <tr style=\"text-align: right;\">\n",
       "      <th></th>\n",
       "      <th>customer_id</th>\n",
       "      <th>gender</th>\n",
       "      <th>0</th>\n",
       "      <th>1</th>\n",
       "      <th>2</th>\n",
       "      <th>3</th>\n",
       "      <th>4</th>\n",
       "      <th>5</th>\n",
       "      <th>6</th>\n",
       "      <th>neg</th>\n",
       "      <th>pos</th>\n",
       "    </tr>\n",
       "  </thead>\n",
       "  <tbody>\n",
       "    <tr>\n",
       "      <th>0</th>\n",
       "      <td>39026145</td>\n",
       "      <td>1.0</td>\n",
       "      <td>0.320628</td>\n",
       "      <td>0.376682</td>\n",
       "      <td>0.318386</td>\n",
       "      <td>0.318386</td>\n",
       "      <td>0.325112</td>\n",
       "      <td>0.414798</td>\n",
       "      <td>0.271300</td>\n",
       "      <td>0.002100</td>\n",
       "      <td>0.000421</td>\n",
       "    </tr>\n",
       "    <tr>\n",
       "      <th>1</th>\n",
       "      <td>52220754</td>\n",
       "      <td>1.0</td>\n",
       "      <td>0.287611</td>\n",
       "      <td>0.303097</td>\n",
       "      <td>0.219027</td>\n",
       "      <td>0.252212</td>\n",
       "      <td>0.283186</td>\n",
       "      <td>0.219027</td>\n",
       "      <td>0.188053</td>\n",
       "      <td>0.009795</td>\n",
       "      <td>0.002873</td>\n",
       "    </tr>\n",
       "    <tr>\n",
       "      <th>2</th>\n",
       "      <td>78029866</td>\n",
       "      <td>NaN</td>\n",
       "      <td>0.354486</td>\n",
       "      <td>0.308534</td>\n",
       "      <td>0.286652</td>\n",
       "      <td>0.286652</td>\n",
       "      <td>0.468271</td>\n",
       "      <td>0.269147</td>\n",
       "      <td>0.133479</td>\n",
       "      <td>0.002368</td>\n",
       "      <td>0.000939</td>\n",
       "    </tr>\n",
       "    <tr>\n",
       "      <th>3</th>\n",
       "      <td>79780256</td>\n",
       "      <td>1.0</td>\n",
       "      <td>0.038095</td>\n",
       "      <td>0.057143</td>\n",
       "      <td>0.042857</td>\n",
       "      <td>0.040476</td>\n",
       "      <td>0.054762</td>\n",
       "      <td>0.035714</td>\n",
       "      <td>0.045238</td>\n",
       "      <td>0.000842</td>\n",
       "      <td>0.000083</td>\n",
       "    </tr>\n",
       "    <tr>\n",
       "      <th>4</th>\n",
       "      <td>1585299</td>\n",
       "      <td>1.0</td>\n",
       "      <td>0.269147</td>\n",
       "      <td>0.234136</td>\n",
       "      <td>0.207877</td>\n",
       "      <td>0.229759</td>\n",
       "      <td>0.380744</td>\n",
       "      <td>0.330416</td>\n",
       "      <td>0.218818</td>\n",
       "      <td>0.003616</td>\n",
       "      <td>0.001258</td>\n",
       "    </tr>\n",
       "  </tbody>\n",
       "</table>\n",
       "</div>"
      ],
      "text/plain": [
       "   customer_id  gender         0         1         2         3         4  \\\n",
       "0     39026145     1.0  0.320628  0.376682  0.318386  0.318386  0.325112   \n",
       "1     52220754     1.0  0.287611  0.303097  0.219027  0.252212  0.283186   \n",
       "2     78029866     NaN  0.354486  0.308534  0.286652  0.286652  0.468271   \n",
       "3     79780256     1.0  0.038095  0.057143  0.042857  0.040476  0.054762   \n",
       "4      1585299     1.0  0.269147  0.234136  0.207877  0.229759  0.380744   \n",
       "\n",
       "          5         6       neg       pos  \n",
       "0  0.414798  0.271300  0.002100  0.000421  \n",
       "1  0.219027  0.188053  0.009795  0.002873  \n",
       "2  0.269147  0.133479  0.002368  0.000939  \n",
       "3  0.035714  0.045238  0.000842  0.000083  \n",
       "4  0.330416  0.218818  0.003616  0.001258  "
      ]
     },
     "execution_count": 8,
     "metadata": {},
     "output_type": "execute_result"
    }
   ],
   "source": [
    "tmp = transactions.groupby('customer_id').apply(\n",
    "    lambda x: pd.Series({'pos': x[x.amount > 0].amount.sum(), 'neg': np.abs(x[x.amount < 0].amount.sum())})\n",
    ").reset_index()\n",
    "tmp.neg = tmp.neg / tmp.neg.max()\n",
    "tmp.pos = tmp.pos / tmp.pos.max()\n",
    "\n",
    "X = pd.merge(X, tmp, on='customer_id', how='left')\n",
    "del tmp\n",
    "X[:5]"
   ]
  },
  {
   "cell_type": "markdown",
   "metadata": {},
   "source": [
    "###### Количество транзакций по кажому mcc_code и tr_type"
   ]
  },
  {
   "cell_type": "code",
   "execution_count": 9,
   "metadata": {
    "collapsed": false
   },
   "outputs": [
    {
     "data": {
      "text/html": [
       "<div>\n",
       "<table border=\"1\" class=\"dataframe\">\n",
       "  <thead>\n",
       "    <tr style=\"text-align: right;\">\n",
       "      <th></th>\n",
       "      <th>customer_id</th>\n",
       "      <th>gender</th>\n",
       "      <th>0</th>\n",
       "      <th>1</th>\n",
       "      <th>2</th>\n",
       "      <th>3</th>\n",
       "      <th>4</th>\n",
       "      <th>5</th>\n",
       "      <th>6</th>\n",
       "      <th>neg</th>\n",
       "      <th>...</th>\n",
       "      <th>8299</th>\n",
       "      <th>8398</th>\n",
       "      <th>8641</th>\n",
       "      <th>8699</th>\n",
       "      <th>8999</th>\n",
       "      <th>9211</th>\n",
       "      <th>9222</th>\n",
       "      <th>9311</th>\n",
       "      <th>9399</th>\n",
       "      <th>9402</th>\n",
       "    </tr>\n",
       "  </thead>\n",
       "  <tbody>\n",
       "    <tr>\n",
       "      <th>0</th>\n",
       "      <td>39026145</td>\n",
       "      <td>1.0</td>\n",
       "      <td>0.320628</td>\n",
       "      <td>0.376682</td>\n",
       "      <td>0.318386</td>\n",
       "      <td>0.318386</td>\n",
       "      <td>0.325112</td>\n",
       "      <td>0.414798</td>\n",
       "      <td>0.271300</td>\n",
       "      <td>0.002100</td>\n",
       "      <td>...</td>\n",
       "      <td>0.0</td>\n",
       "      <td>0.0</td>\n",
       "      <td>0.0</td>\n",
       "      <td>0.0</td>\n",
       "      <td>0.0</td>\n",
       "      <td>0.0</td>\n",
       "      <td>0.0</td>\n",
       "      <td>0.0</td>\n",
       "      <td>0.0</td>\n",
       "      <td>0.0</td>\n",
       "    </tr>\n",
       "    <tr>\n",
       "      <th>1</th>\n",
       "      <td>52220754</td>\n",
       "      <td>1.0</td>\n",
       "      <td>0.287611</td>\n",
       "      <td>0.303097</td>\n",
       "      <td>0.219027</td>\n",
       "      <td>0.252212</td>\n",
       "      <td>0.283186</td>\n",
       "      <td>0.219027</td>\n",
       "      <td>0.188053</td>\n",
       "      <td>0.009795</td>\n",
       "      <td>...</td>\n",
       "      <td>0.0</td>\n",
       "      <td>0.0</td>\n",
       "      <td>0.0</td>\n",
       "      <td>0.0</td>\n",
       "      <td>0.0</td>\n",
       "      <td>0.0</td>\n",
       "      <td>0.0</td>\n",
       "      <td>0.0</td>\n",
       "      <td>0.0</td>\n",
       "      <td>0.0</td>\n",
       "    </tr>\n",
       "    <tr>\n",
       "      <th>2</th>\n",
       "      <td>78029866</td>\n",
       "      <td>NaN</td>\n",
       "      <td>0.354486</td>\n",
       "      <td>0.308534</td>\n",
       "      <td>0.286652</td>\n",
       "      <td>0.286652</td>\n",
       "      <td>0.468271</td>\n",
       "      <td>0.269147</td>\n",
       "      <td>0.133479</td>\n",
       "      <td>0.002368</td>\n",
       "      <td>...</td>\n",
       "      <td>0.0</td>\n",
       "      <td>0.0</td>\n",
       "      <td>0.0</td>\n",
       "      <td>0.0</td>\n",
       "      <td>0.0</td>\n",
       "      <td>0.0</td>\n",
       "      <td>0.0</td>\n",
       "      <td>0.0</td>\n",
       "      <td>0.0</td>\n",
       "      <td>0.0</td>\n",
       "    </tr>\n",
       "    <tr>\n",
       "      <th>3</th>\n",
       "      <td>79780256</td>\n",
       "      <td>1.0</td>\n",
       "      <td>0.038095</td>\n",
       "      <td>0.057143</td>\n",
       "      <td>0.042857</td>\n",
       "      <td>0.040476</td>\n",
       "      <td>0.054762</td>\n",
       "      <td>0.035714</td>\n",
       "      <td>0.045238</td>\n",
       "      <td>0.000842</td>\n",
       "      <td>...</td>\n",
       "      <td>0.0</td>\n",
       "      <td>0.0</td>\n",
       "      <td>0.0</td>\n",
       "      <td>0.0</td>\n",
       "      <td>0.0</td>\n",
       "      <td>0.0</td>\n",
       "      <td>0.0</td>\n",
       "      <td>0.0</td>\n",
       "      <td>0.0</td>\n",
       "      <td>0.0</td>\n",
       "    </tr>\n",
       "    <tr>\n",
       "      <th>4</th>\n",
       "      <td>1585299</td>\n",
       "      <td>1.0</td>\n",
       "      <td>0.269147</td>\n",
       "      <td>0.234136</td>\n",
       "      <td>0.207877</td>\n",
       "      <td>0.229759</td>\n",
       "      <td>0.380744</td>\n",
       "      <td>0.330416</td>\n",
       "      <td>0.218818</td>\n",
       "      <td>0.003616</td>\n",
       "      <td>...</td>\n",
       "      <td>0.0</td>\n",
       "      <td>0.0</td>\n",
       "      <td>0.0</td>\n",
       "      <td>0.0</td>\n",
       "      <td>8.0</td>\n",
       "      <td>0.0</td>\n",
       "      <td>0.0</td>\n",
       "      <td>0.0</td>\n",
       "      <td>0.0</td>\n",
       "      <td>0.0</td>\n",
       "    </tr>\n",
       "  </tbody>\n",
       "</table>\n",
       "<p>5 rows × 270 columns</p>\n",
       "</div>"
      ],
      "text/plain": [
       "   customer_id  gender         0         1         2         3         4  \\\n",
       "0     39026145     1.0  0.320628  0.376682  0.318386  0.318386  0.325112   \n",
       "1     52220754     1.0  0.287611  0.303097  0.219027  0.252212  0.283186   \n",
       "2     78029866     NaN  0.354486  0.308534  0.286652  0.286652  0.468271   \n",
       "3     79780256     1.0  0.038095  0.057143  0.042857  0.040476  0.054762   \n",
       "4      1585299     1.0  0.269147  0.234136  0.207877  0.229759  0.380744   \n",
       "\n",
       "          5         6       neg  ...   8299  8398  8641  8699  8999  9211  \\\n",
       "0  0.414798  0.271300  0.002100  ...    0.0   0.0   0.0   0.0   0.0   0.0   \n",
       "1  0.219027  0.188053  0.009795  ...    0.0   0.0   0.0   0.0   0.0   0.0   \n",
       "2  0.269147  0.133479  0.002368  ...    0.0   0.0   0.0   0.0   0.0   0.0   \n",
       "3  0.035714  0.045238  0.000842  ...    0.0   0.0   0.0   0.0   0.0   0.0   \n",
       "4  0.330416  0.218818  0.003616  ...    0.0   0.0   0.0   0.0   8.0   0.0   \n",
       "\n",
       "   9222  9311  9399  9402  \n",
       "0   0.0   0.0   0.0   0.0  \n",
       "1   0.0   0.0   0.0   0.0  \n",
       "2   0.0   0.0   0.0   0.0  \n",
       "3   0.0   0.0   0.0   0.0  \n",
       "4   0.0   0.0   0.0   0.0  \n",
       "\n",
       "[5 rows x 270 columns]"
      ]
     },
     "execution_count": 9,
     "metadata": {},
     "output_type": "execute_result"
    }
   ],
   "source": [
    "tmp = transactions.groupby('customer_id').apply(\n",
    "    lambda x: x[['mcc_code', 'tr_type']].unstack().value_counts()\n",
    ").unstack().fillna(0).reset_index()\n",
    "\n",
    "X = pd.merge(X, tmp, on='customer_id', how='left')\n",
    "del tmp\n",
    "X[:5]"
   ]
  },
  {
   "cell_type": "markdown",
   "metadata": {},
   "source": [
    "# Классификация"
   ]
  },
  {
   "cell_type": "code",
   "execution_count": 10,
   "metadata": {
    "collapsed": false
   },
   "outputs": [],
   "source": [
    "from sklearn.metrics import roc_auc_score\n",
    "from sklearn.model_selection import cross_val_predict"
   ]
  },
  {
   "cell_type": "code",
   "execution_count": 11,
   "metadata": {
    "collapsed": false
   },
   "outputs": [
    {
     "name": "stderr",
     "output_type": "stream",
     "text": [
      "/home/ospanoff/.pyenv/versions/3.5.1/envs/python3/lib/python3.5/site-packages/sklearn/cross_validation.py:44: DeprecationWarning: This module was deprecated in version 0.18 in favor of the model_selection module into which all the refactored classes and functions are moved. Also note that the interface of the new CV iterators are different from that of this module. This module will be removed in 0.20.\n",
      "  \"This module will be removed in 0.20.\", DeprecationWarning)\n"
     ]
    }
   ],
   "source": [
    "import xgboost as xgb"
   ]
  },
  {
   "cell_type": "code",
   "execution_count": 12,
   "metadata": {
    "collapsed": false
   },
   "outputs": [],
   "source": [
    "X_train = X[~X.gender.isnull()].copy()\n",
    "X_test = X[X.gender.isnull()].copy()"
   ]
  },
  {
   "cell_type": "code",
   "execution_count": 13,
   "metadata": {
    "collapsed": false
   },
   "outputs": [],
   "source": [
    "X_train.fillna(0, inplace=True)\n",
    "X_test.fillna(0, inplace=True)"
   ]
  },
  {
   "cell_type": "code",
   "execution_count": 14,
   "metadata": {
    "collapsed": true
   },
   "outputs": [],
   "source": [
    "X_train, y_train = X_train.values[:, 2:], X_train.values[:, 1]\n",
    "X_test = X_test.values[:, 2:]"
   ]
  },
  {
   "cell_type": "markdown",
   "metadata": {},
   "source": [
    "\"period of a day\" feature didn't work on the public data, so I didn't choose it as a final ans. My bad :'("
   ]
  },
  {
   "cell_type": "code",
   "execution_count": 15,
   "metadata": {
    "collapsed": true
   },
   "outputs": [],
   "source": [
    "param = { \n",
    "    'max_depth': 6,\n",
    "    'gamma': 6,\n",
    "    'colsample_bytree': 0.1,\n",
    "    'min_child_weight': 12,\n",
    "    'subsample': 0.7,\n",
    "    'n_estimators': 500,\n",
    "}\n",
    "# 0.88161715443875743; with a period of a day\n",
    "# 0.8813132834609162; without a period of a day"
   ]
  },
  {
   "cell_type": "code",
   "execution_count": 16,
   "metadata": {
    "collapsed": false
   },
   "outputs": [],
   "source": [
    "clf = xgb.XGBClassifier(**param)"
   ]
  },
  {
   "cell_type": "code",
   "execution_count": 17,
   "metadata": {
    "collapsed": false
   },
   "outputs": [
    {
     "data": {
      "text/plain": [
       "0.8813132834609162"
      ]
     },
     "execution_count": 17,
     "metadata": {},
     "output_type": "execute_result"
    }
   ],
   "source": [
    "tmp = cross_val_predict(clf, X_train, y_train, cv=10, method='predict_proba')\n",
    "roc_auc_score(y_train, tmp[:, 1])"
   ]
  },
  {
   "cell_type": "markdown",
   "metadata": {},
   "source": [
    "## Predict на тестовой выборке"
   ]
  },
  {
   "cell_type": "code",
   "execution_count": 18,
   "metadata": {
    "collapsed": true
   },
   "outputs": [],
   "source": [
    "clf = xgb.XGBClassifier(**param)"
   ]
  },
  {
   "cell_type": "code",
   "execution_count": 19,
   "metadata": {
    "collapsed": false
   },
   "outputs": [
    {
     "data": {
      "text/plain": [
       "XGBClassifier(base_score=0.5, colsample_bylevel=1, colsample_bytree=0.1,\n",
       "       gamma=6, learning_rate=0.1, max_delta_step=0, max_depth=6,\n",
       "       min_child_weight=12, missing=None, n_estimators=500, nthread=-1,\n",
       "       objective='binary:logistic', reg_alpha=0, reg_lambda=1,\n",
       "       scale_pos_weight=1, seed=0, silent=True, subsample=0.7)"
      ]
     },
     "execution_count": 19,
     "metadata": {},
     "output_type": "execute_result"
    }
   ],
   "source": [
    "clf.fit(X_train, y_train, eval_metric='auc')"
   ]
  },
  {
   "cell_type": "code",
   "execution_count": 20,
   "metadata": {
    "collapsed": true
   },
   "outputs": [],
   "source": [
    "result = X[X.gender.isnull()][['customer_id']].copy()\n",
    "result['gender'] = clf.predict_proba(X_test)[:, 1]"
   ]
  },
  {
   "cell_type": "code",
   "execution_count": 21,
   "metadata": {
    "collapsed": false
   },
   "outputs": [],
   "source": [
    "result.sort_values(by='customer_id', inplace=True)"
   ]
  },
  {
   "cell_type": "code",
   "execution_count": 22,
   "metadata": {
    "collapsed": false
   },
   "outputs": [],
   "source": [
    "result.to_csv('data/myans.csv', index=False)"
   ]
  }
 ],
 "metadata": {
  "anaconda-cloud": {},
  "kernelspec": {
   "display_name": "Python 3",
   "language": "python",
   "name": "python3"
  },
  "language_info": {
   "codemirror_mode": {
    "name": "ipython",
    "version": 3
   },
   "file_extension": ".py",
   "mimetype": "text/x-python",
   "name": "python",
   "nbconvert_exporter": "python",
   "pygments_lexer": "ipython3",
   "version": "3.5.1"
  }
 },
 "nbformat": 4,
 "nbformat_minor": 0
}
