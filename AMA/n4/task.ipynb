{
 "cells": [
  {
   "cell_type": "code",
   "execution_count": 1,
   "metadata": {
    "collapsed": false
   },
   "outputs": [
    {
     "name": "stderr",
     "output_type": "stream",
     "text": [
      "/home/ospanoff/.pyenv/versions/3.5.1/envs/python3/lib/python3.5/site-packages/sklearn/cross_validation.py:44: DeprecationWarning: This module was deprecated in version 0.18 in favor of the model_selection module into which all the refactored classes and functions are moved. Also note that the interface of the new CV iterators are different from that of this module. This module will be removed in 0.20.\n",
      "  \"This module will be removed in 0.20.\", DeprecationWarning)\n"
     ]
    }
   ],
   "source": [
    "import numpy as np\n",
    "import pandas as pd\n",
    "import xgboost as xgb"
   ]
  },
  {
   "cell_type": "code",
   "execution_count": 2,
   "metadata": {
    "collapsed": true
   },
   "outputs": [],
   "source": [
    "from sys import stdout\n",
    "import time"
   ]
  },
  {
   "cell_type": "code",
   "execution_count": 3,
   "metadata": {
    "collapsed": true
   },
   "outputs": [],
   "source": [
    "data_train = pd.read_csv(\"data/train.csv\")\n",
    "data_test = pd.read_csv(\"data/test.csv\")"
   ]
  },
  {
   "cell_type": "code",
   "execution_count": 4,
   "metadata": {
    "collapsed": true
   },
   "outputs": [],
   "source": [
    "data_all = data_train.append(data_test)\n",
    "del data_train\n",
    "del data_test"
   ]
  },
  {
   "cell_type": "code",
   "execution_count": null,
   "metadata": {
    "collapsed": true
   },
   "outputs": [],
   "source": []
  },
  {
   "cell_type": "code",
   "execution_count": 7,
   "metadata": {
    "collapsed": false
   },
   "outputs": [],
   "source": [
    "X = data_all.drop([col for col in data_all.columns if 'cat' in col and col not in ['cat' + str(i) for i in range(89, 117)]], axis=1)"
   ]
  },
  {
   "cell_type": "code",
   "execution_count": 8,
   "metadata": {
    "collapsed": false
   },
   "outputs": [],
   "source": [
    "for i in range(6):\n",
    "    cols = ['cat' + str(12 * i + j) for j in range(1, 13)]\n",
    "    X['cat_couples_' + str(i)] = data_all[cols].apply(lambda x: x.sum(), axis=1)"
   ]
  },
  {
   "cell_type": "code",
   "execution_count": 9,
   "metadata": {
    "collapsed": true
   },
   "outputs": [],
   "source": [
    "X['cat_triples'] = data_all[['cat' + str(i) for i in range(73, 77)]].apply(lambda x: x.sum(), axis=1)"
   ]
  },
  {
   "cell_type": "code",
   "execution_count": 10,
   "metadata": {
    "collapsed": false
   },
   "outputs": [],
   "source": [
    "X['cat_quadro'] = data_all[['cat' + str(i) for i in range(77, 89)]].apply(lambda x: x.sum(), axis=1)"
   ]
  },
  {
   "cell_type": "code",
   "execution_count": null,
   "metadata": {
    "collapsed": true
   },
   "outputs": [],
   "source": []
  },
  {
   "cell_type": "code",
   "execution_count": 5,
   "metadata": {
    "collapsed": true
   },
   "outputs": [],
   "source": [
    "X = data_all.copy()\n",
    "del data_all"
   ]
  },
  {
   "cell_type": "code",
   "execution_count": 6,
   "metadata": {
    "collapsed": true
   },
   "outputs": [],
   "source": [
    "def make_cardin_code(cat_feat):\n",
    "    uniq = set(cat_feat)\n",
    "    ret = dict()\n",
    "    for i, f in enumerate(uniq):\n",
    "        stdout.write(\"\\r%0.2f%%\" % (100 * (i + 1) / len(uniq)))\n",
    "        ret[f] = (cat_feat == f).mean()\n",
    "\n",
    "    return ret"
   ]
  },
  {
   "cell_type": "code",
   "execution_count": 7,
   "metadata": {
    "collapsed": false,
    "scrolled": true
   },
   "outputs": [
    {
     "name": "stdout",
     "output_type": "stream",
     "text": [
      "cat1\n",
      "100.00%\n",
      "\n",
      "cat10\n",
      "100.00%\n",
      "\n",
      "cat100\n",
      "100.00%\n",
      "\n",
      "cat101\n",
      "100.00%\n",
      "\n",
      "cat102\n",
      "100.00%\n",
      "\n",
      "cat103\n",
      "100.00%\n",
      "\n",
      "cat104\n",
      "100.00%\n",
      "\n",
      "cat105\n",
      "100.00%\n",
      "\n",
      "cat106\n",
      "100.00%\n",
      "\n",
      "cat107\n",
      "100.00%\n",
      "\n",
      "cat108\n",
      "100.00%\n",
      "\n",
      "cat109\n",
      "100.00%\n",
      "\n",
      "cat11\n",
      "100.00%\n",
      "\n",
      "cat110\n",
      "100.00%\n",
      "\n",
      "cat111\n",
      "100.00%\n",
      "\n",
      "cat112\n",
      "100.00%\n",
      "\n",
      "cat113\n",
      "100.00%\n",
      "\n",
      "cat114\n",
      "100.00%\n",
      "\n",
      "cat115\n",
      "100.00%\n",
      "\n",
      "cat116\n",
      "100.00%\n",
      "\n",
      "cat12\n",
      "100.00%\n",
      "\n",
      "cat13\n",
      "100.00%\n",
      "\n",
      "cat14\n",
      "100.00%\n",
      "\n",
      "cat15\n",
      "100.00%\n",
      "\n",
      "cat16\n",
      "100.00%\n",
      "\n",
      "cat17\n",
      "100.00%\n",
      "\n",
      "cat18\n",
      "100.00%\n",
      "\n",
      "cat19\n",
      "100.00%\n",
      "\n",
      "cat2\n",
      "100.00%\n",
      "\n",
      "cat20\n",
      "100.00%\n",
      "\n",
      "cat21\n",
      "100.00%\n",
      "\n",
      "cat22\n",
      "100.00%\n",
      "\n",
      "cat23\n",
      "100.00%\n",
      "\n",
      "cat24\n",
      "100.00%\n",
      "\n",
      "cat25\n",
      "100.00%\n",
      "\n",
      "cat26\n",
      "100.00%\n",
      "\n",
      "cat27\n",
      "100.00%\n",
      "\n",
      "cat28\n",
      "100.00%\n",
      "\n",
      "cat29\n",
      "100.00%\n",
      "\n",
      "cat3\n",
      "100.00%\n",
      "\n",
      "cat30\n",
      "100.00%\n",
      "\n",
      "cat31\n",
      "100.00%\n",
      "\n",
      "cat32\n",
      "100.00%\n",
      "\n",
      "cat33\n",
      "100.00%\n",
      "\n",
      "cat34\n",
      "100.00%\n",
      "\n",
      "cat35\n",
      "100.00%\n",
      "\n",
      "cat36\n",
      "100.00%\n",
      "\n",
      "cat37\n",
      "100.00%\n",
      "\n",
      "cat38\n",
      "100.00%\n",
      "\n",
      "cat39\n",
      "100.00%\n",
      "\n",
      "cat4\n",
      "100.00%\n",
      "\n",
      "cat40\n",
      "100.00%\n",
      "\n",
      "cat41\n",
      "100.00%\n",
      "\n",
      "cat42\n",
      "100.00%\n",
      "\n",
      "cat43\n",
      "100.00%\n",
      "\n",
      "cat44\n",
      "100.00%\n",
      "\n",
      "cat45\n",
      "100.00%\n",
      "\n",
      "cat46\n",
      "100.00%\n",
      "\n",
      "cat47\n",
      "100.00%\n",
      "\n",
      "cat48\n",
      "100.00%\n",
      "\n",
      "cat49\n",
      "100.00%\n",
      "\n",
      "cat5\n",
      "100.00%\n",
      "\n",
      "cat50\n",
      "100.00%\n",
      "\n",
      "cat51\n",
      "100.00%\n",
      "\n",
      "cat52\n",
      "100.00%\n",
      "\n",
      "cat53\n",
      "100.00%\n",
      "\n",
      "cat54\n",
      "100.00%\n",
      "\n",
      "cat55\n",
      "100.00%\n",
      "\n",
      "cat56\n",
      "100.00%\n",
      "\n",
      "cat57\n",
      "100.00%\n",
      "\n",
      "cat58\n",
      "100.00%\n",
      "\n",
      "cat59\n",
      "100.00%\n",
      "\n",
      "cat6\n",
      "100.00%\n",
      "\n",
      "cat60\n",
      "100.00%\n",
      "\n",
      "cat61\n",
      "100.00%\n",
      "\n",
      "cat62\n",
      "100.00%\n",
      "\n",
      "cat63\n",
      "100.00%\n",
      "\n",
      "cat64\n",
      "100.00%\n",
      "\n",
      "cat65\n",
      "100.00%\n",
      "\n",
      "cat66\n",
      "100.00%\n",
      "\n",
      "cat67\n",
      "100.00%\n",
      "\n",
      "cat68\n",
      "100.00%\n",
      "\n",
      "cat69\n",
      "100.00%\n",
      "\n",
      "cat7\n",
      "100.00%\n",
      "\n",
      "cat70\n",
      "100.00%\n",
      "\n",
      "cat71\n",
      "100.00%\n",
      "\n",
      "cat72\n",
      "100.00%\n",
      "\n",
      "cat73\n",
      "100.00%\n",
      "\n",
      "cat74\n",
      "100.00%\n",
      "\n",
      "cat75\n",
      "100.00%\n",
      "\n",
      "cat76\n",
      "100.00%\n",
      "\n",
      "cat77\n",
      "100.00%\n",
      "\n",
      "cat78\n",
      "100.00%\n",
      "\n",
      "cat79\n",
      "100.00%\n",
      "\n",
      "cat8\n",
      "100.00%\n",
      "\n",
      "cat80\n",
      "100.00%\n",
      "\n",
      "cat81\n",
      "100.00%\n",
      "\n",
      "cat82\n",
      "100.00%\n",
      "\n",
      "cat83\n",
      "100.00%\n",
      "\n",
      "cat84\n",
      "100.00%\n",
      "\n",
      "cat85\n",
      "100.00%\n",
      "\n",
      "cat86\n",
      "100.00%\n",
      "\n",
      "cat87\n",
      "100.00%\n",
      "\n",
      "cat88\n",
      "100.00%\n",
      "\n",
      "cat89\n",
      "100.00%\n",
      "\n",
      "cat9\n",
      "100.00%\n",
      "\n",
      "cat90\n",
      "100.00%\n",
      "\n",
      "cat91\n",
      "100.00%\n",
      "\n",
      "cat92\n",
      "100.00%\n",
      "\n",
      "cat93\n",
      "100.00%\n",
      "\n",
      "cat94\n",
      "100.00%\n",
      "\n",
      "cat95\n",
      "100.00%\n",
      "\n",
      "cat96\n",
      "100.00%\n",
      "\n",
      "cat97\n",
      "100.00%\n",
      "\n",
      "cat98\n",
      "100.00%\n",
      "\n",
      "cat99\n",
      "100.00%\n",
      "\n"
     ]
    }
   ],
   "source": [
    "for col in X.columns:\n",
    "    if 'cat' in col:\n",
    "        print(col)\n",
    "        uniq = make_cardin_code(X[col].values)\n",
    "        X[col + '_coded'] = X[col].apply(lambda x: uniq[x])\n",
    "        print('\\n')"
   ]
  },
  {
   "cell_type": "code",
   "execution_count": 8,
   "metadata": {
    "collapsed": false
   },
   "outputs": [],
   "source": [
    "X.drop([col for col in X.columns if 'cat' in col and '_coded' not in col], axis=1, inplace=True)"
   ]
  },
  {
   "cell_type": "code",
   "execution_count": null,
   "metadata": {
    "collapsed": true
   },
   "outputs": [],
   "source": []
  },
  {
   "cell_type": "code",
   "execution_count": 10,
   "metadata": {
    "collapsed": true
   },
   "outputs": [],
   "source": [
    "from sklearn.metrics import mean_absolute_error"
   ]
  },
  {
   "cell_type": "code",
   "execution_count": 11,
   "metadata": {
    "collapsed": true
   },
   "outputs": [],
   "source": [
    "def evalerror(preds, dtrain):\n",
    "    labels = dtrain.get_label()\n",
    "    return 'mae', mean_absolute_error(np.exp(preds), np.exp(labels))"
   ]
  },
  {
   "cell_type": "code",
   "execution_count": 13,
   "metadata": {
    "collapsed": true
   },
   "outputs": [],
   "source": [
    "from sklearn.model_selection import KFold"
   ]
  },
  {
   "cell_type": "code",
   "execution_count": 18,
   "metadata": {
    "collapsed": false
   },
   "outputs": [],
   "source": [
    "kf = KFold(n_splits=5)"
   ]
  },
  {
   "cell_type": "code",
   "execution_count": 28,
   "metadata": {
    "collapsed": false
   },
   "outputs": [],
   "source": [
    "train = X[X['loss'].notnull()]\n",
    "test = X[X['loss'].isnull()]\n",
    "\n",
    "shift = 200\n",
    "y = np.log(train['loss'] + shift)\n",
    "X_train = train.drop(['loss', 'id'], 1)\n",
    "X_test = test.drop(['loss', 'id'], 1)\n",
    "\n",
    "RANDOM_STATE = 2016\n",
    "params = {\n",
    "    'min_child_weight': 1,\n",
    "    'eta': 0.01,\n",
    "    'colsample_bytree': 0.5,\n",
    "    'max_depth': 12,\n",
    "    'subsample': 0.8,\n",
    "    'alpha': 1,\n",
    "    'gamma': 1,\n",
    "    'silent': 1,\n",
    "    'verbose_eval': True,\n",
    "    'seed': RANDOM_STATE\n",
    "}\n",
    "\n",
    "prediction = np.zeros(X_test.shape[0])\n",
    "\n",
    "for tr_ind, te_ind in kf.split(X_train):\n",
    "\n",
    "    xgtrain = xgb.DMatrix(X_train.values[tr_ind], label=y[tr_ind])\n",
    "    xgtest = xgb.DMatrix(X_test.values)\n",
    "\n",
    "    model = xgb.train(params, xgtrain, int(2012 / 0.9), feval=evalerror)\n",
    "\n",
    "    prediction += np.exp(model.predict(xgtest)) - shift\n",
    "\n",
    "submission = pd.DataFrame()\n",
    "submission['loss'] = prediction / 5\n",
    "submission['id'] = test['id']\n",
    "submission.to_csv('sub_my.csv', index=False)"
   ]
  },
  {
   "cell_type": "code",
   "execution_count": null,
   "metadata": {
    "collapsed": true
   },
   "outputs": [],
   "source": []
  },
  {
   "cell_type": "code",
   "execution_count": null,
   "metadata": {
    "collapsed": true
   },
   "outputs": [],
   "source": []
  },
  {
   "cell_type": "code",
   "execution_count": null,
   "metadata": {
    "collapsed": true
   },
   "outputs": [],
   "source": []
  },
  {
   "cell_type": "code",
   "execution_count": null,
   "metadata": {
    "collapsed": true
   },
   "outputs": [],
   "source": []
  }
 ],
 "metadata": {
  "kernelspec": {
   "display_name": "Python 3",
   "language": "python",
   "name": "python3"
  },
  "language_info": {
   "codemirror_mode": {
    "name": "ipython",
    "version": 3
   },
   "file_extension": ".py",
   "mimetype": "text/x-python",
   "name": "python",
   "nbconvert_exporter": "python",
   "pygments_lexer": "ipython3",
   "version": "3.5.1"
  }
 },
 "nbformat": 4,
 "nbformat_minor": 1
}
