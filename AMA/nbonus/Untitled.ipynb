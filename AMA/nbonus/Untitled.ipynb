{
 "cells": [
  {
   "cell_type": "code",
   "execution_count": 1,
   "metadata": {
    "collapsed": true
   },
   "outputs": [],
   "source": [
    "import numpy as np\n",
    "import pandas as pd"
   ]
  },
  {
   "cell_type": "markdown",
   "metadata": {},
   "source": [
    "### Data load"
   ]
  },
  {
   "cell_type": "code",
   "execution_count": 290,
   "metadata": {
    "collapsed": false
   },
   "outputs": [],
   "source": [
    "merchants_train = pd.read_csv('data/merchants_train.csv', sep=';')\n",
    "merchants_test = pd.read_csv('data/merchants_test.csv', sep=';')\n",
    "transactions = pd.read_csv('data/transactions.csv')"
   ]
  },
  {
   "cell_type": "code",
   "execution_count": 258,
   "metadata": {
    "collapsed": false
   },
   "outputs": [
    {
     "data": {
      "text/html": [
       "<div>\n",
       "<table border=\"1\" class=\"dataframe\">\n",
       "  <thead>\n",
       "    <tr style=\"text-align: right;\">\n",
       "      <th></th>\n",
       "      <th>merchant_id</th>\n",
       "      <th>latitude</th>\n",
       "      <th>longitude</th>\n",
       "      <th>real_transaction_dttm</th>\n",
       "      <th>record_date</th>\n",
       "    </tr>\n",
       "  </thead>\n",
       "  <tbody>\n",
       "    <tr>\n",
       "      <th>0</th>\n",
       "      <td>178</td>\n",
       "      <td>0.000000</td>\n",
       "      <td>0.000000</td>\n",
       "      <td>9:34:47</td>\n",
       "      <td>9:30:36</td>\n",
       "    </tr>\n",
       "    <tr>\n",
       "      <th>1</th>\n",
       "      <td>178</td>\n",
       "      <td>55.055995</td>\n",
       "      <td>82.912991</td>\n",
       "      <td>17:49:50</td>\n",
       "      <td>17:54:24</td>\n",
       "    </tr>\n",
       "    <tr>\n",
       "      <th>2</th>\n",
       "      <td>178</td>\n",
       "      <td>0.000000</td>\n",
       "      <td>0.000000</td>\n",
       "      <td>9:34:47</td>\n",
       "      <td>9:31:22</td>\n",
       "    </tr>\n",
       "    <tr>\n",
       "      <th>3</th>\n",
       "      <td>178</td>\n",
       "      <td>55.056034</td>\n",
       "      <td>82.912734</td>\n",
       "      <td>17:49:50</td>\n",
       "      <td>17:43:01</td>\n",
       "    </tr>\n",
       "    <tr>\n",
       "      <th>4</th>\n",
       "      <td>178</td>\n",
       "      <td>55.056034</td>\n",
       "      <td>82.912734</td>\n",
       "      <td>17:49:50</td>\n",
       "      <td>17:45:17</td>\n",
       "    </tr>\n",
       "  </tbody>\n",
       "</table>\n",
       "</div>"
      ],
      "text/plain": [
       "   merchant_id   latitude  longitude real_transaction_dttm record_date\n",
       "0          178   0.000000   0.000000               9:34:47     9:30:36\n",
       "1          178  55.055995  82.912991              17:49:50    17:54:24\n",
       "2          178   0.000000   0.000000               9:34:47     9:31:22\n",
       "3          178  55.056034  82.912734              17:49:50    17:43:01\n",
       "4          178  55.056034  82.912734              17:49:50    17:45:17"
      ]
     },
     "execution_count": 258,
     "metadata": {},
     "output_type": "execute_result"
    }
   ],
   "source": [
    "transactions.head()"
   ]
  },
  {
   "cell_type": "code",
   "execution_count": 291,
   "metadata": {
    "collapsed": false
   },
   "outputs": [],
   "source": [
    "transactions = transactions[(np.abs(transactions.latitude) > 5)]"
   ]
  },
  {
   "cell_type": "code",
   "execution_count": 260,
   "metadata": {
    "collapsed": false
   },
   "outputs": [
    {
     "data": {
      "text/html": [
       "<div>\n",
       "<table border=\"1\" class=\"dataframe\">\n",
       "  <thead>\n",
       "    <tr style=\"text-align: right;\">\n",
       "      <th></th>\n",
       "      <th>merchant_id</th>\n",
       "      <th>latitude</th>\n",
       "      <th>longitude</th>\n",
       "      <th>real_transaction_dttm</th>\n",
       "      <th>record_date</th>\n",
       "    </tr>\n",
       "  </thead>\n",
       "  <tbody>\n",
       "    <tr>\n",
       "      <th>1</th>\n",
       "      <td>178</td>\n",
       "      <td>55.055995</td>\n",
       "      <td>82.912991</td>\n",
       "      <td>17:49:50</td>\n",
       "      <td>17:54:24</td>\n",
       "    </tr>\n",
       "    <tr>\n",
       "      <th>3</th>\n",
       "      <td>178</td>\n",
       "      <td>55.056034</td>\n",
       "      <td>82.912734</td>\n",
       "      <td>17:49:50</td>\n",
       "      <td>17:43:01</td>\n",
       "    </tr>\n",
       "    <tr>\n",
       "      <th>4</th>\n",
       "      <td>178</td>\n",
       "      <td>55.056034</td>\n",
       "      <td>82.912734</td>\n",
       "      <td>17:49:50</td>\n",
       "      <td>17:45:17</td>\n",
       "    </tr>\n",
       "    <tr>\n",
       "      <th>7</th>\n",
       "      <td>178</td>\n",
       "      <td>55.055995</td>\n",
       "      <td>82.912991</td>\n",
       "      <td>17:49:50</td>\n",
       "      <td>17:51:34</td>\n",
       "    </tr>\n",
       "    <tr>\n",
       "      <th>8</th>\n",
       "      <td>267</td>\n",
       "      <td>55.741642</td>\n",
       "      <td>37.502628</td>\n",
       "      <td>15:34:28</td>\n",
       "      <td>15:32:51</td>\n",
       "    </tr>\n",
       "  </tbody>\n",
       "</table>\n",
       "</div>"
      ],
      "text/plain": [
       "   merchant_id   latitude  longitude real_transaction_dttm record_date\n",
       "1          178  55.055995  82.912991              17:49:50    17:54:24\n",
       "3          178  55.056034  82.912734              17:49:50    17:43:01\n",
       "4          178  55.056034  82.912734              17:49:50    17:45:17\n",
       "7          178  55.055995  82.912991              17:49:50    17:51:34\n",
       "8          267  55.741642  37.502628              15:34:28    15:32:51"
      ]
     },
     "execution_count": 260,
     "metadata": {},
     "output_type": "execute_result"
    }
   ],
   "source": [
    "transactions.head()"
   ]
  },
  {
   "cell_type": "markdown",
   "metadata": {},
   "source": [
    "### Control"
   ]
  },
  {
   "cell_type": "code",
   "execution_count": 261,
   "metadata": {
    "collapsed": true
   },
   "outputs": [],
   "source": [
    "from scipy.stats import mode"
   ]
  },
  {
   "cell_type": "code",
   "execution_count": 262,
   "metadata": {
    "collapsed": true
   },
   "outputs": [],
   "source": [
    "from sklearn.model_selection import KFold"
   ]
  },
  {
   "cell_type": "code",
   "execution_count": 263,
   "metadata": {
    "collapsed": false
   },
   "outputs": [],
   "source": [
    "def accuracy(data_true, data_pred):\n",
    "    k = 0\n",
    "    for dt, dp in zip(data_true, data_pred):\n",
    "        if dp[0] != dt[0]:\n",
    "            print('Check indexes!')\n",
    "            return\n",
    "        \n",
    "        if abs(dt[1] - dp[1]) <= 0.002 and\\\n",
    "            abs(dt[2] - dp[2]) <= 0.002:\n",
    "            k += 1\n",
    "            \n",
    "    return 1.0 * k / data_true.shape[0], k"
   ]
  },
  {
   "cell_type": "code",
   "execution_count": 287,
   "metadata": {
    "collapsed": false
   },
   "outputs": [],
   "source": [
    "data = merchants_train.values\n",
    "kf = KFold()\n",
    "train_idx, test_idx = next(kf.split(data))\n",
    "train = data[train_idx]\n",
    "test = data[test_idx]"
   ]
  },
  {
   "cell_type": "code",
   "execution_count": 288,
   "metadata": {
    "collapsed": false
   },
   "outputs": [],
   "source": [
    "lats = []\n",
    "lons = []\n",
    "k = 0\n",
    "test_pred = np.empty_like(test)\n",
    "for i in range(test.shape[0]):\n",
    "    id_ = test[i, 0]\n",
    "    tmp = transactions[transactions.merchant_id == id_]\n",
    "    test_pred[i, 0] = id_\n",
    "    k += 1\n",
    "    if tmp.shape[0] == 0:  # if we removed zeros\n",
    "        test_pred[i, 1] = 0.0\n",
    "        test_pred[i, 2] = 0.0\n",
    "        \n",
    "        lats += [0]\n",
    "        lons += [0]\n",
    "    else:\n",
    "        dat = tmp.longitude.values\n",
    "        center = len(dat) // 2\n",
    "        med_i = np.argsort(dat)[center]\n",
    "        \n",
    "        lat = tmp.latitude.values[med_i]\n",
    "        lon = tmp.longitude.values[med_i]\n",
    "\n",
    "        test_pred[i, 1] = lat\n",
    "        test_pred[i, 2] = lon"
   ]
  },
  {
   "cell_type": "code",
   "execution_count": 289,
   "metadata": {
    "collapsed": false
   },
   "outputs": [
    {
     "data": {
      "text/plain": [
       "(0.12170291531698288, 263)"
      ]
     },
     "execution_count": 289,
     "metadata": {},
     "output_type": "execute_result"
    }
   ],
   "source": [
    "accuracy(test, test_pred)"
   ]
  },
  {
   "cell_type": "code",
   "execution_count": 283,
   "metadata": {
    "collapsed": false
   },
   "outputs": [
    {
     "data": {
      "text/plain": [
       "(0.12216566404442387, 264)"
      ]
     },
     "execution_count": 283,
     "metadata": {},
     "output_type": "execute_result"
    }
   ],
   "source": [
    "accuracy(test, test_pred)"
   ]
  },
  {
   "cell_type": "code",
   "execution_count": 266,
   "metadata": {
    "collapsed": false
   },
   "outputs": [
    {
     "data": {
      "text/plain": [
       "(0.12124016658954188, 262)"
      ]
     },
     "execution_count": 266,
     "metadata": {},
     "output_type": "execute_result"
    }
   ],
   "source": [
    "accuracy(test, test_pred)"
   ]
  },
  {
   "cell_type": "code",
   "execution_count": null,
   "metadata": {
    "collapsed": true
   },
   "outputs": [],
   "source": []
  },
  {
   "cell_type": "code",
   "execution_count": 233,
   "metadata": {
    "collapsed": false
   },
   "outputs": [
    {
     "data": {
      "text/plain": [
       "0.20962517353077278"
      ]
     },
     "execution_count": 233,
     "metadata": {},
     "output_type": "execute_result"
    }
   ],
   "source": [
    "(abs(test_pred[:, 1] - test[:, 1]) < 0.002).sum() / test.shape[0]"
   ]
  },
  {
   "cell_type": "code",
   "execution_count": 234,
   "metadata": {
    "collapsed": false
   },
   "outputs": [
    {
     "data": {
      "text/plain": [
       "0.17353077279037482"
      ]
     },
     "execution_count": 234,
     "metadata": {},
     "output_type": "execute_result"
    }
   ],
   "source": [
    "(abs(test_pred[:, 2] - test[:, 2]) < 0.002).sum() / test.shape[0]"
   ]
  },
  {
   "cell_type": "code",
   "execution_count": null,
   "metadata": {
    "collapsed": true
   },
   "outputs": [],
   "source": []
  },
  {
   "cell_type": "code",
   "execution_count": null,
   "metadata": {
    "collapsed": true
   },
   "outputs": [],
   "source": []
  },
  {
   "cell_type": "code",
   "execution_count": 203,
   "metadata": {
    "collapsed": true
   },
   "outputs": [],
   "source": [
    "import matplotlib.pyplot as plt"
   ]
  },
  {
   "cell_type": "code",
   "execution_count": 278,
   "metadata": {
    "collapsed": false
   },
   "outputs": [
    {
     "data": {
      "image/png": "[encoded data removed]",
      "text/plain": [
       "<matplotlib.figure.Figure at 0x7f73340a3e10>"
      ]
     },
     "metadata": {},
     "output_type": "display_data"
    }
   ],
   "source": [
    "lats = transactions.latitude.values\n",
    "lons = transactions.longitude.values\n",
    "plt.figure(figsize=(15, 8))\n",
    "plt.hist(lats[lats < -5], bins=50)\n",
    "# plt.ylim((0, 5000))\n",
    "plt.show()"
   ]
  },
  {
   "cell_type": "code",
   "execution_count": null,
   "metadata": {
    "collapsed": true
   },
   "outputs": [],
   "source": []
  },
  {
   "cell_type": "code",
   "execution_count": null,
   "metadata": {
    "collapsed": true
   },
   "outputs": [],
   "source": []
  },
  {
   "cell_type": "code",
   "execution_count": null,
   "metadata": {
    "collapsed": true
   },
   "outputs": [],
   "source": []
  },
  {
   "cell_type": "code",
   "execution_count": null,
   "metadata": {
    "collapsed": true
   },
   "outputs": [],
   "source": []
  },
  {
   "cell_type": "markdown",
   "metadata": {},
   "source": [
    "### Test prediction"
   ]
  },
  {
   "cell_type": "code",
   "execution_count": 292,
   "metadata": {
    "collapsed": true
   },
   "outputs": [],
   "source": [
    "ids = []\n",
    "lons = []\n",
    "lats = []"
   ]
  },
  {
   "cell_type": "code",
   "execution_count": 293,
   "metadata": {
    "collapsed": false
   },
   "outputs": [],
   "source": [
    "for i, merchant_id in enumerate(merchants_test.merchant_id):\n",
    "    tmp = transactions[transactions.merchant_id == merchant_id]\n",
    "    ids += [merchant_id]\n",
    "    if tmp.shape[0] == 0:\n",
    "        lats += [0.0]\n",
    "        lons += [0.0]\n",
    "    else:\n",
    "        dat = tmp.longitude.values\n",
    "        med_i = np.argsort(dat)[len(dat) // 2]\n",
    "        \n",
    "        lat = tmp.latitude.values[med_i]\n",
    "        lon = tmp.longitude.values[med_i]\n",
    "        \n",
    "        lats += [lat]\n",
    "        lons += [lon]"
   ]
  },
  {
   "cell_type": "code",
   "execution_count": 9,
   "metadata": {
    "collapsed": false
   },
   "outputs": [
    {
     "data": {
      "text/html": [
       "<div>\n",
       "<table border=\"1\" class=\"dataframe\">\n",
       "  <thead>\n",
       "    <tr style=\"text-align: right;\">\n",
       "      <th></th>\n",
       "      <th>merchant_id</th>\n",
       "      <th>latitude</th>\n",
       "      <th>longitude</th>\n",
       "    </tr>\n",
       "  </thead>\n",
       "  <tbody>\n",
       "    <tr>\n",
       "      <th>0</th>\n",
       "      <td>361</td>\n",
       "      <td>NaN</td>\n",
       "      <td>NaN</td>\n",
       "    </tr>\n",
       "    <tr>\n",
       "      <th>1</th>\n",
       "      <td>428</td>\n",
       "      <td>NaN</td>\n",
       "      <td>NaN</td>\n",
       "    </tr>\n",
       "    <tr>\n",
       "      <th>2</th>\n",
       "      <td>490</td>\n",
       "      <td>NaN</td>\n",
       "      <td>NaN</td>\n",
       "    </tr>\n",
       "    <tr>\n",
       "      <th>3</th>\n",
       "      <td>1175</td>\n",
       "      <td>NaN</td>\n",
       "      <td>NaN</td>\n",
       "    </tr>\n",
       "    <tr>\n",
       "      <th>4</th>\n",
       "      <td>1239</td>\n",
       "      <td>NaN</td>\n",
       "      <td>NaN</td>\n",
       "    </tr>\n",
       "  </tbody>\n",
       "</table>\n",
       "</div>"
      ],
      "text/plain": [
       "   merchant_id  latitude  longitude\n",
       "0          361       NaN        NaN\n",
       "1          428       NaN        NaN\n",
       "2          490       NaN        NaN\n",
       "3         1175       NaN        NaN\n",
       "4         1239       NaN        NaN"
      ]
     },
     "execution_count": 9,
     "metadata": {},
     "output_type": "execute_result"
    }
   ],
   "source": [
    "merchants_test.head()"
   ]
  },
  {
   "cell_type": "code",
   "execution_count": 294,
   "metadata": {
    "collapsed": false
   },
   "outputs": [],
   "source": [
    "df = pd.DataFrame(np.array([ids, lats, lons]).T, columns=merchants_test.columns)\n",
    "df[['merchant_id']] = df[['merchant_id']].astype(np.int)"
   ]
  },
  {
   "cell_type": "code",
   "execution_count": 295,
   "metadata": {
    "collapsed": false
   },
   "outputs": [
    {
     "data": {
      "text/html": [
       "<div>\n",
       "<table border=\"1\" class=\"dataframe\">\n",
       "  <thead>\n",
       "    <tr style=\"text-align: right;\">\n",
       "      <th></th>\n",
       "      <th>merchant_id</th>\n",
       "      <th>latitude</th>\n",
       "      <th>longitude</th>\n",
       "    </tr>\n",
       "  </thead>\n",
       "  <tbody>\n",
       "    <tr>\n",
       "      <th>0</th>\n",
       "      <td>361</td>\n",
       "      <td>55.750347</td>\n",
       "      <td>37.623851</td>\n",
       "    </tr>\n",
       "    <tr>\n",
       "      <th>1</th>\n",
       "      <td>428</td>\n",
       "      <td>55.553254</td>\n",
       "      <td>37.723753</td>\n",
       "    </tr>\n",
       "    <tr>\n",
       "      <th>2</th>\n",
       "      <td>490</td>\n",
       "      <td>59.875699</td>\n",
       "      <td>30.361785</td>\n",
       "    </tr>\n",
       "    <tr>\n",
       "      <th>3</th>\n",
       "      <td>1175</td>\n",
       "      <td>55.775950</td>\n",
       "      <td>37.602035</td>\n",
       "    </tr>\n",
       "    <tr>\n",
       "      <th>4</th>\n",
       "      <td>1239</td>\n",
       "      <td>55.750347</td>\n",
       "      <td>37.623851</td>\n",
       "    </tr>\n",
       "  </tbody>\n",
       "</table>\n",
       "</div>"
      ],
      "text/plain": [
       "   merchant_id   latitude  longitude\n",
       "0          361  55.750347  37.623851\n",
       "1          428  55.553254  37.723753\n",
       "2          490  59.875699  30.361785\n",
       "3         1175  55.775950  37.602035\n",
       "4         1239  55.750347  37.623851"
      ]
     },
     "execution_count": 295,
     "metadata": {},
     "output_type": "execute_result"
    }
   ],
   "source": [
    "df.head()"
   ]
  },
  {
   "cell_type": "code",
   "execution_count": 296,
   "metadata": {
    "collapsed": true
   },
   "outputs": [],
   "source": [
    "df.to_csv('submission.csv', index=None)"
   ]
  },
  {
   "cell_type": "code",
   "execution_count": null,
   "metadata": {
    "collapsed": true
   },
   "outputs": [],
   "source": []
  }
 ],
 "metadata": {
  "kernelspec": {
   "display_name": "Python 3",
   "language": "python",
   "name": "python3"
  },
  "language_info": {
   "codemirror_mode": {
    "name": "ipython",
    "version": 3
   },
   "file_extension": ".py",
   "mimetype": "text/x-python",
   "name": "python",
   "nbconvert_exporter": "python",
   "pygments_lexer": "ipython3",
   "version": "3.5.1"
  }
 },
 "nbformat": 4,
 "nbformat_minor": 1
}
