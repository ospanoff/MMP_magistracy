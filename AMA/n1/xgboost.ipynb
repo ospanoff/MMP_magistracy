{
 "cells": [
  {
   "cell_type": "code",
   "execution_count": 1,
   "metadata": {
    "collapsed": true
   },
   "outputs": [],
   "source": [
    "%matplotlib inline\n",
    "import numpy as np\n",
    "import pandas as pd\n",
    "from sklearn.metrics import mean_absolute_error\n",
    "from sklearn.preprocessing import normalize\n",
    "import matplotlib.pyplot as plt\n",
    "from scipy.sparse import csr_matrix"
   ]
  },
  {
   "cell_type": "code",
   "execution_count": 2,
   "metadata": {
    "collapsed": true
   },
   "outputs": [],
   "source": [
    "from sys import stdout\n",
    "from time import time"
   ]
  },
  {
   "cell_type": "code",
   "execution_count": 3,
   "metadata": {
    "collapsed": true
   },
   "outputs": [],
   "source": [
    "import xgboost as xgb"
   ]
  },
  {
   "cell_type": "code",
   "execution_count": 4,
   "metadata": {
    "collapsed": true
   },
   "outputs": [],
   "source": [
    "X = pd.read_csv(\"data/X.csv\")\n",
    "data = X.groupby('user')"
   ]
  },
  {
   "cell_type": "code",
   "execution_count": 5,
   "metadata": {
    "collapsed": true
   },
   "outputs": [],
   "source": [
    "def remove_zeros_rows(x):\n",
    "    nz = np.nonzero(x.any(axis=1))[0]\n",
    "    return (x[nz, :])\n",
    "\n",
    "def build_calendar(X):\n",
    "    s = csr_matrix((X['sum'].values, (X.user.values - 1, X.day.values - 1))).todense()\n",
    "    s = np.concatenate([s, np.zeros((s.shape[0], 3), dtype=np.int)], axis=1)\n",
    "    return ([0] + [remove_zeros_rows(np.asarray(user.reshape(448//7, 7))) for user in s])"
   ]
  },
  {
   "cell_type": "code",
   "execution_count": 6,
   "metadata": {
    "collapsed": false
   },
   "outputs": [
    {
     "name": "stdout",
     "output_type": "stream",
     "text": [
      "CPU times: user 4.12 s, sys: 147 ms, total: 4.27 s\n",
      "Wall time: 4.26 s\n"
     ]
    }
   ],
   "source": [
    "%time cal = build_calendar(X)"
   ]
  },
  {
   "cell_type": "code",
   "execution_count": 7,
   "metadata": {
    "collapsed": false
   },
   "outputs": [
    {
     "name": "stdout",
     "output_type": "stream",
     "text": [
      "CPU times: user 137 ms, sys: 23.3 ms, total: 160 ms\n",
      "Wall time: 156 ms\n"
     ]
    }
   ],
   "source": [
    "%time data_pred = data.last().values\n",
    "data_pred = data_pred[:, 0]"
   ]
  },
  {
   "cell_type": "code",
   "execution_count": 8,
   "metadata": {
    "collapsed": false
   },
   "outputs": [
    {
     "name": "stdout",
     "output_type": "stream",
     "text": [
      "CPU times: user 1.06 s, sys: 56.7 ms, total: 1.11 s\n",
      "Wall time: 1.11 s\n"
     ]
    }
   ],
   "source": [
    "%time test = data.apply(lambda df: df.values[-2])\n",
    "test = np.array(list(test))\n",
    "data_test, target_test = test[:, 0], test[:, 1]"
   ]
  },
  {
   "cell_type": "code",
   "execution_count": null,
   "metadata": {
    "collapsed": true
   },
   "outputs": [],
   "source": []
  },
  {
   "cell_type": "code",
   "execution_count": 9,
   "metadata": {
    "collapsed": true
   },
   "outputs": [],
   "source": [
    "def get_features(cal, day, n=15):\n",
    "    nz_day = cal[:, day]\n",
    "    nz_day = nz_day[nz_day.nonzero()]\n",
    "    ret = []\n",
    "    ret += [nz_day.mean()]\n",
    "    ret += [nz_day.sum()]\n",
    "    ret += [nz_day.max()]\n",
    "    ret += [nz_day.min()]\n",
    "    ret += [np.median(nz_day)]\n",
    "    ret += cal[:, day][:n].tolist()\n",
    "    ret += cal[-n-1: -1].mean(axis=1).tolist()\n",
    "    ret += cal[-n-1: -1].sum(axis=1).tolist()\n",
    "    \n",
    "    return ret"
   ]
  },
  {
   "cell_type": "markdown",
   "metadata": {},
   "source": [
    "#### Test"
   ]
  },
  {
   "cell_type": "code",
   "execution_count": 29,
   "metadata": {
    "collapsed": false
   },
   "outputs": [],
   "source": [
    "X_xg_test = np.zeros((data_test.size, 50))\n",
    "for u, day in enumerate((data_test - 1) % 7):\n",
    "    X_xg_test[u, :] = np.array(get_features(cal[u + 1], day))"
   ]
  },
  {
   "cell_type": "code",
   "execution_count": 30,
   "metadata": {
    "collapsed": true
   },
   "outputs": [],
   "source": [
    "y_xg_test = np.array(target_test)"
   ]
  },
  {
   "cell_type": "code",
   "execution_count": 36,
   "metadata": {
    "collapsed": false
   },
   "outputs": [
    {
     "data": {
      "text/plain": [
       "XGBRegressor(base_score=0.5, colsample_bylevel=1, colsample_bytree=1, gamma=0,\n",
       "       learning_rate=0.1, max_delta_step=0, max_depth=3,\n",
       "       min_child_weight=1, missing=None, n_estimators=100, nthread=-1,\n",
       "       objective='reg:linear', reg_alpha=0, reg_lambda=1,\n",
       "       scale_pos_weight=1, seed=0, silent=True, subsample=1)"
      ]
     },
     "execution_count": 36,
     "metadata": {},
     "output_type": "execute_result"
    }
   ],
   "source": [
    "reg = xgb.XGBRegressor()\n",
    "reg.fit(X_xg_test, y_xg_test)"
   ]
  },
  {
   "cell_type": "code",
   "execution_count": 39,
   "metadata": {
    "collapsed": false
   },
   "outputs": [
    {
     "name": "stdout",
     "output_type": "stream",
     "text": [
      "194.673579789\n"
     ]
    }
   ],
   "source": [
    "y_test_pred = reg.predict(X_xg_test)\n",
    "print(mean_absolute_error(y_xg_test, y_test_pred))"
   ]
  },
  {
   "cell_type": "markdown",
   "metadata": {},
   "source": [
    "####  Test normalized"
   ]
  },
  {
   "cell_type": "code",
   "execution_count": 40,
   "metadata": {
    "collapsed": false
   },
   "outputs": [],
   "source": [
    "X_xg_test_norm = normalize(X_xg_test)"
   ]
  },
  {
   "cell_type": "code",
   "execution_count": 41,
   "metadata": {
    "collapsed": false
   },
   "outputs": [
    {
     "data": {
      "text/plain": [
       "XGBRegressor(base_score=0.5, colsample_bylevel=1, colsample_bytree=1, gamma=0,\n",
       "       learning_rate=0.1, max_delta_step=0, max_depth=3,\n",
       "       min_child_weight=1, missing=None, n_estimators=100, nthread=-1,\n",
       "       objective='reg:linear', reg_alpha=0, reg_lambda=1,\n",
       "       scale_pos_weight=1, seed=0, silent=True, subsample=1)"
      ]
     },
     "execution_count": 41,
     "metadata": {},
     "output_type": "execute_result"
    }
   ],
   "source": [
    "reg_n = xgb.XGBRegressor()\n",
    "reg_n.fit(X_xg_test_norm, y_xg_test)"
   ]
  },
  {
   "cell_type": "code",
   "execution_count": 43,
   "metadata": {
    "collapsed": false
   },
   "outputs": [
    {
     "name": "stdout",
     "output_type": "stream",
     "text": [
      "249.836694441\n"
     ]
    }
   ],
   "source": [
    "y_test_n_pred = reg_n.predict(X_xg_test_norm)\n",
    "print(mean_absolute_error(y_xg_test, y_test_n_pred))"
   ]
  },
  {
   "cell_type": "markdown",
   "metadata": {},
   "source": [
    "### Pred"
   ]
  },
  {
   "cell_type": "code",
   "execution_count": 47,
   "metadata": {
    "collapsed": true
   },
   "outputs": [],
   "source": [
    "ans_275 = pd.read_csv('data/myans_1.csv')['sum'].values"
   ]
  },
  {
   "cell_type": "code",
   "execution_count": 35,
   "metadata": {
    "collapsed": false
   },
   "outputs": [],
   "source": [
    "X_xg = np.zeros((data_pred.size, 50))\n",
    "for u, day in enumerate((data_pred - 1) % 7):\n",
    "    X_xg[u, :] = np.array(get_features(cal[u + 1], day))"
   ]
  },
  {
   "cell_type": "code",
   "execution_count": 44,
   "metadata": {
    "collapsed": true
   },
   "outputs": [],
   "source": [
    "y_pred = reg.predict(X_xg)"
   ]
  },
  {
   "cell_type": "code",
   "execution_count": 56,
   "metadata": {
    "collapsed": false
   },
   "outputs": [
    {
     "data": {
      "text/plain": [
       "array([[  462.97616577,   330.5547315 ],\n",
       "       [  172.9669342 ,   227.04705756],\n",
       "       [ 1009.01287842,   769.15553372],\n",
       "       [  478.42523193,   466.26335122],\n",
       "       [  389.00512695,   367.88551994],\n",
       "       [  639.58251953,   397.60649257],\n",
       "       [  697.54968262,   736.75948432],\n",
       "       [  426.81420898,   441.31795502],\n",
       "       [  530.94073486,   421.29144594],\n",
       "       [  715.70794678,   677.90108304],\n",
       "       [  248.63244629,   551.13108757],\n",
       "       [  321.76077271,   292.19544793],\n",
       "       [  510.67611694,   528.75781142],\n",
       "       [ 1336.80285645,   994.87940236],\n",
       "       [  285.58248901,   267.59554532],\n",
       "       [  321.27456665,   238.42993707],\n",
       "       [ 1759.3684082 ,  1356.40336742],\n",
       "       [ 1100.46337891,   751.53034856],\n",
       "       [ 1096.09155273,   773.55117081],\n",
       "       [  952.14801025,   881.39635177],\n",
       "       [  302.72348022,   364.97081322],\n",
       "       [  252.94404602,   292.69157895],\n",
       "       [ 1366.27893066,  1358.05510575],\n",
       "       [  144.22163391,   239.54147241],\n",
       "       [  489.09698486,   383.06286942],\n",
       "       [ 1920.91772461,  1920.07575758],\n",
       "       [  752.51879883,   456.07785001],\n",
       "       [  281.00967407,   257.4754382 ],\n",
       "       [  252.38583374,   230.09430246],\n",
       "       [  364.04800415,   296.64798236]])"
      ]
     },
     "execution_count": 56,
     "metadata": {},
     "output_type": "execute_result"
    }
   ],
   "source": [
    "np.vstack((y_pred, ans_275)).T[:30]"
   ]
  },
  {
   "cell_type": "code",
   "execution_count": 49,
   "metadata": {
    "collapsed": false
   },
   "outputs": [
    {
     "name": "stdout",
     "output_type": "stream",
     "text": [
      "162.875797391\n"
     ]
    }
   ],
   "source": [
    "print(mean_absolute_error(ans_275, y_pred))"
   ]
  },
  {
   "cell_type": "code",
   "execution_count": null,
   "metadata": {
    "collapsed": true
   },
   "outputs": [],
   "source": []
  },
  {
   "cell_type": "code",
   "execution_count": 63,
   "metadata": {
    "collapsed": true
   },
   "outputs": [],
   "source": [
    "myres_csv = pd.DataFrame(data=y_pred, index=pd.RangeIndex(1, len(y_pred) + 1, name='user'), columns=['sum'])"
   ]
  },
  {
   "cell_type": "code",
   "execution_count": 65,
   "metadata": {
    "collapsed": false
   },
   "outputs": [],
   "source": [
    "myres_csv.to_csv(\"data/myans_xgb.csv\")"
   ]
  },
  {
   "cell_type": "markdown",
   "metadata": {},
   "source": [
    "###  pred norm"
   ]
  },
  {
   "cell_type": "code",
   "execution_count": 57,
   "metadata": {
    "collapsed": true
   },
   "outputs": [],
   "source": [
    "X_xg_norm = normalize(X_xg)"
   ]
  },
  {
   "cell_type": "code",
   "execution_count": 58,
   "metadata": {
    "collapsed": true
   },
   "outputs": [],
   "source": [
    "y_pred_n = reg_n.predict(X_xg_norm)"
   ]
  },
  {
   "cell_type": "code",
   "execution_count": 60,
   "metadata": {
    "collapsed": false
   },
   "outputs": [
    {
     "data": {
      "text/plain": [
       "array([[  484.16531372,   330.5547315 ],\n",
       "       [   37.94115448,   227.04705756],\n",
       "       [  924.29876709,   769.15553372],\n",
       "       [  479.38037109,   466.26335122],\n",
       "       [  395.43603516,   367.88551994],\n",
       "       [  809.86682129,   397.60649257],\n",
       "       [  771.89898682,   736.75948432],\n",
       "       [  560.98046875,   441.31795502],\n",
       "       [  672.96618652,   421.29144594],\n",
       "       [  701.5489502 ,   677.90108304],\n",
       "       [   39.63309097,   551.13108757],\n",
       "       [  415.3480835 ,   292.19544793],\n",
       "       [  543.12475586,   528.75781142],\n",
       "       [ 1204.93188477,   994.87940236],\n",
       "       [  396.54006958,   267.59554532],\n",
       "       [  365.60836792,   238.42993707],\n",
       "       [ 1273.00683594,  1356.40336742],\n",
       "       [ 1040.86962891,   751.53034856],\n",
       "       [  996.81640625,   773.55117081],\n",
       "       [  953.31256104,   881.39635177],\n",
       "       [  352.5062561 ,   364.97081322],\n",
       "       [  108.71702576,   292.69157895],\n",
       "       [ 1007.92547607,  1358.05510575],\n",
       "       [  420.90539551,   239.54147241],\n",
       "       [  722.94372559,   383.06286942],\n",
       "       [ 1012.90545654,  1920.07575758],\n",
       "       [  810.00445557,   456.07785001],\n",
       "       [  232.27482605,   257.4754382 ],\n",
       "       [  303.17776489,   230.09430246],\n",
       "       [  235.43948364,   296.64798236]])"
      ]
     },
     "execution_count": 60,
     "metadata": {},
     "output_type": "execute_result"
    }
   ],
   "source": [
    "np.vstack((y_pred_n, ans_275)).T[:30]"
   ]
  },
  {
   "cell_type": "code",
   "execution_count": 59,
   "metadata": {
    "collapsed": false
   },
   "outputs": [
    {
     "name": "stdout",
     "output_type": "stream",
     "text": [
      "194.971463128\n"
     ]
    }
   ],
   "source": [
    "print(mean_absolute_error(ans_275, y_pred_n))"
   ]
  },
  {
   "cell_type": "code",
   "execution_count": null,
   "metadata": {
    "collapsed": true
   },
   "outputs": [],
   "source": []
  },
  {
   "cell_type": "code",
   "execution_count": 66,
   "metadata": {
    "collapsed": true
   },
   "outputs": [],
   "source": [
    "myres_n_csv = pd.DataFrame(data=y_pred_n, index=pd.RangeIndex(1, len(y_pred_n) + 1, name='user'), columns=['sum'])"
   ]
  },
  {
   "cell_type": "code",
   "execution_count": 69,
   "metadata": {
    "collapsed": true
   },
   "outputs": [],
   "source": [
    "myres_n_csv.to_csv(\"data/myans_xgb_norm.csv\")"
   ]
  },
  {
   "cell_type": "code",
   "execution_count": null,
   "metadata": {
    "collapsed": true
   },
   "outputs": [],
   "source": []
  },
  {
   "cell_type": "markdown",
   "metadata": {},
   "source": [
    "### Compare"
   ]
  },
  {
   "cell_type": "code",
   "execution_count": 62,
   "metadata": {
    "collapsed": false
   },
   "outputs": [
    {
     "data": {
      "text/plain": [
       "array([[  462.97616577,   484.16531372],\n",
       "       [  172.9669342 ,    37.94115448],\n",
       "       [ 1009.01287842,   924.29876709],\n",
       "       [  478.42523193,   479.38037109],\n",
       "       [  389.00512695,   395.43603516],\n",
       "       [  639.58251953,   809.86682129],\n",
       "       [  697.54968262,   771.89898682],\n",
       "       [  426.81420898,   560.98046875],\n",
       "       [  530.94073486,   672.96618652],\n",
       "       [  715.70794678,   701.5489502 ],\n",
       "       [  248.63244629,    39.63309097],\n",
       "       [  321.76077271,   415.3480835 ],\n",
       "       [  510.67611694,   543.12475586],\n",
       "       [ 1336.80285645,  1204.93188477],\n",
       "       [  285.58248901,   396.54006958],\n",
       "       [  321.27456665,   365.60836792],\n",
       "       [ 1759.3684082 ,  1273.00683594],\n",
       "       [ 1100.46337891,  1040.86962891],\n",
       "       [ 1096.09155273,   996.81640625],\n",
       "       [  952.14801025,   953.31256104],\n",
       "       [  302.72348022,   352.5062561 ],\n",
       "       [  252.94404602,   108.71702576],\n",
       "       [ 1366.27893066,  1007.92547607],\n",
       "       [  144.22163391,   420.90539551],\n",
       "       [  489.09698486,   722.94372559],\n",
       "       [ 1920.91772461,  1012.90545654],\n",
       "       [  752.51879883,   810.00445557],\n",
       "       [  281.00967407,   232.27482605],\n",
       "       [  252.38583374,   303.17776489],\n",
       "       [  364.04800415,   235.43948364]], dtype=float32)"
      ]
     },
     "execution_count": 62,
     "metadata": {},
     "output_type": "execute_result"
    }
   ],
   "source": [
    "np.vstack((y_pred, y_pred_n)).T[:30]"
   ]
  },
  {
   "cell_type": "code",
   "execution_count": null,
   "metadata": {
    "collapsed": true
   },
   "outputs": [],
   "source": []
  }
 ],
 "metadata": {
  "kernelspec": {
   "display_name": "Python 3",
   "language": "python",
   "name": "python3"
  },
  "language_info": {
   "codemirror_mode": {
    "name": "ipython",
    "version": 3
   },
   "file_extension": ".py",
   "mimetype": "text/x-python",
   "name": "python",
   "nbconvert_exporter": "python",
   "pygments_lexer": "ipython3",
   "version": "3.5.1"
  }
 },
 "nbformat": 4,
 "nbformat_minor": 1
}
