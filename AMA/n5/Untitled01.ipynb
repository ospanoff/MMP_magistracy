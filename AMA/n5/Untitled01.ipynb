{
 "cells": [
  {
   "cell_type": "code",
   "execution_count": 1,
   "metadata": {
    "collapsed": true
   },
   "outputs": [],
   "source": [
    "import datetime\n",
    "import numpy as np\n",
    "import pandas as pd"
   ]
  },
  {
   "cell_type": "code",
   "execution_count": 2,
   "metadata": {
    "collapsed": true
   },
   "outputs": [],
   "source": [
    "data_types = {\n",
    "    'ncodpers': np.int32, \n",
    "    'conyuemp': np.int8,\n",
    "    'indfall': np.int8,\n",
    "    'tipodom': np.int8,\n",
    "    'indext': np.int8,\n",
    "    'indresi': np.int8,\n",
    "    'pais_residencia': np.int8,\n",
    "    'segmento': np.int8,\n",
    "    'canal_entrada': np.int8,\n",
    "    'indrel_1mes': np.int8,\n",
    "    'sexo': np.int8,\n",
    "    'ind_empleado': np.int8,\n",
    "    'nomprov': np.int8,\n",
    "    'tiprel_1mes': np.int8,\n",
    "    'ind_ahor_fin_ult1': np.int8, \n",
    "    'ind_aval_fin_ult1': np.int8, \n",
    "    'ind_cco_fin_ult1': np.int8, \n",
    "    'ind_cder_fin_ult1': np.int8, \n",
    "    'ind_cno_fin_ult1': np.int8, \n",
    "    'ind_ctju_fin_ult1': np.int8, \n",
    "    'ind_ctma_fin_ult1': np.int8, \n",
    "    'ind_ctop_fin_ult1': np.int8, \n",
    "    'ind_ctpp_fin_ult1': np.int8, \n",
    "    'ind_deco_fin_ult1': np.int8, \n",
    "    'ind_deme_fin_ult1': np.int8, \n",
    "    'ind_dela_fin_ult1': np.int8, \n",
    "    'ind_ecue_fin_ult1': np.int8, \n",
    "    'ind_fond_fin_ult1': np.int8, \n",
    "    'ind_hip_fin_ult1': np.int8, \n",
    "    'ind_plan_fin_ult1': np.int8, \n",
    "    'ind_pres_fin_ult1': np.int8, \n",
    "    'ind_reca_fin_ult1': np.int8, \n",
    "    'ind_tjcr_fin_ult1': np.int8, \n",
    "    'ind_valo_fin_ult1': np.int8, \n",
    "    'ind_nomina_ult1': np.int8,\n",
    "    'ind_nom_pens_ult1': np.int8,\n",
    "    'ind_viv_fin_ult1': np.int8, \n",
    "    'ind_recibo_ult1': np.int8\n",
    "}\n",
    "\n",
    "dates = ['fecha_dato', 'fecha_alta', 'ult_fec_cli_1t']"
   ]
  },
  {
   "cell_type": "code",
   "execution_count": 3,
   "metadata": {
    "collapsed": true
   },
   "outputs": [],
   "source": [
    "data = pd.read_csv('data/train_preprocessed.csv', parse_dates=dates, dtype=data_types)\n",
    "data_te = pd.read_csv('data/test_preprocessed.csv', parse_dates=dates, dtype=data_types)"
   ]
  },
  {
   "cell_type": "code",
   "execution_count": 4,
   "metadata": {
    "collapsed": true
   },
   "outputs": [],
   "source": [
    "target_cols = [\n",
    "    'ind_ahor_fin_ult1',\n",
    "    'ind_aval_fin_ult1',\n",
    "    'ind_cco_fin_ult1',\n",
    "    'ind_cder_fin_ult1',\n",
    "    'ind_cno_fin_ult1',\n",
    "    'ind_ctju_fin_ult1',\n",
    "    'ind_ctma_fin_ult1',\n",
    "    'ind_ctop_fin_ult1',\n",
    "    'ind_ctpp_fin_ult1',\n",
    "    'ind_deco_fin_ult1',\n",
    "    'ind_deme_fin_ult1',\n",
    "    'ind_dela_fin_ult1',\n",
    "    'ind_ecue_fin_ult1',\n",
    "    'ind_fond_fin_ult1',\n",
    "    'ind_hip_fin_ult1',\n",
    "    'ind_plan_fin_ult1',\n",
    "    'ind_pres_fin_ult1',\n",
    "    'ind_reca_fin_ult1',\n",
    "    'ind_tjcr_fin_ult1',\n",
    "    'ind_valo_fin_ult1',\n",
    "    'ind_viv_fin_ult1',\n",
    "    'ind_nomina_ult1',\n",
    "    'ind_nom_pens_ult1',\n",
    "    'ind_recibo_ult1'\n",
    "]\n",
    "\n",
    "\n",
    "feature_cols = list(set(data.columns) - set(target_cols) - set(['ncodpers']) - set(dates))"
   ]
  },
  {
   "cell_type": "code",
   "execution_count": 5,
   "metadata": {
    "collapsed": true
   },
   "outputs": [],
   "source": [
    "last_month_index = np.array(data.fecha_dato == datetime.datetime(2016, 5, 28))"
   ]
  },
  {
   "cell_type": "code",
   "execution_count": 6,
   "metadata": {
    "collapsed": true
   },
   "outputs": [],
   "source": [
    "rating = data.ix[:, target_cols].sum(axis=0).values\n",
    "sorted_rating = np.argsort(rating)[::-1]"
   ]
  },
  {
   "cell_type": "code",
   "execution_count": 7,
   "metadata": {
    "collapsed": true
   },
   "outputs": [],
   "source": [
    "from sys import stdout"
   ]
  },
  {
   "cell_type": "code",
   "execution_count": null,
   "metadata": {
    "collapsed": true
   },
   "outputs": [],
   "source": [
    "preds = []\n",
    "for user_id in data_te.ncodpers.values:\n",
    "    indx = last_data.ncodpers == user_id\n",
    "    ld = last_data.ix[indx, target_cols].values\n",
    "    if ld.size > 0:\n",
    "        used_prods = np.where(ld[0] == 1)[0]\n",
    "        pred = []\n",
    "        for p in sorted_rating:\n",
    "            if p not in used_prods:\n",
    "                pred += [p]\n",
    "\n",
    "            if len(pred) == 7:\n",
    "                break\n",
    "                \n",
    "    else:\n",
    "        pred = sorted_rating[:7]\n",
    "\n",
    "    preds += [pred]\n",
    "    \n",
    "# for target in data.ix[valid_index, target_cols].values:\n",
    "#     trues += [set(np.where(target == 1)[0])]"
   ]
  }
 ],
 "metadata": {
  "kernelspec": {
   "display_name": "Python 3",
   "language": "python",
   "name": "python3"
  },
  "language_info": {
   "codemirror_mode": {
    "name": "ipython",
    "version": 3
   },
   "file_extension": ".py",
   "mimetype": "text/x-python",
   "name": "python",
   "nbconvert_exporter": "python",
   "pygments_lexer": "ipython3",
   "version": "3.5.1"
  }
 },
 "nbformat": 4,
 "nbformat_minor": 1
}
