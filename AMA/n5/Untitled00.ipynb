{
 "cells": [
  {
   "cell_type": "code",
   "execution_count": 1,
   "metadata": {
    "collapsed": true
   },
   "outputs": [],
   "source": [
    "import datetime\n",
    "import numpy as np\n",
    "import pandas as pd"
   ]
  },
  {
   "cell_type": "code",
   "execution_count": 2,
   "metadata": {
    "collapsed": true
   },
   "outputs": [],
   "source": [
    "def apk(actual, predicted, k=10):\n",
    "\n",
    "    if len(predicted)>k:\n",
    "        predicted = predicted[:k]\n",
    "\n",
    "    score = 0.0\n",
    "    num_hits = 0.0\n",
    "\n",
    "    for i,p in enumerate(predicted):\n",
    "        if p in actual and p not in predicted[:i]:\n",
    "            num_hits += 1.0\n",
    "            score += num_hits / (i+1.0)\n",
    "\n",
    "    if not actual:\n",
    "        return 0.0\n",
    "\n",
    "    return score / min(len(actual), k)\n",
    "\n",
    "\n",
    "def mapk(actual, predicted, k=10):\n",
    "    return np.mean([apk(a,p,k) for a,p in zip(actual, predicted)])"
   ]
  },
  {
   "cell_type": "code",
   "execution_count": 3,
   "metadata": {
    "collapsed": true
   },
   "outputs": [],
   "source": [
    "data_types = {\n",
    "    'ncodpers': np.int32, \n",
    "    'conyuemp': np.int8,\n",
    "    'indfall': np.int8,\n",
    "    'tipodom': np.int8,\n",
    "    'indext': np.int8,\n",
    "    'indresi': np.int8,\n",
    "    'pais_residencia': np.int8,\n",
    "    'segmento': np.int8,\n",
    "    'canal_entrada': np.int8,\n",
    "    'indrel_1mes': np.int8,\n",
    "    'sexo': np.int8,\n",
    "    'ind_empleado': np.int8,\n",
    "    'nomprov': np.int8,\n",
    "    'tiprel_1mes': np.int8,\n",
    "    'ind_ahor_fin_ult1': np.int8, \n",
    "    'ind_aval_fin_ult1': np.int8, \n",
    "    'ind_cco_fin_ult1': np.int8, \n",
    "    'ind_cder_fin_ult1': np.int8, \n",
    "    'ind_cno_fin_ult1': np.int8, \n",
    "    'ind_ctju_fin_ult1': np.int8, \n",
    "    'ind_ctma_fin_ult1': np.int8, \n",
    "    'ind_ctop_fin_ult1': np.int8, \n",
    "    'ind_ctpp_fin_ult1': np.int8, \n",
    "    'ind_deco_fin_ult1': np.int8, \n",
    "    'ind_deme_fin_ult1': np.int8, \n",
    "    'ind_dela_fin_ult1': np.int8, \n",
    "    'ind_ecue_fin_ult1': np.int8, \n",
    "    'ind_fond_fin_ult1': np.int8, \n",
    "    'ind_hip_fin_ult1': np.int8, \n",
    "    'ind_plan_fin_ult1': np.int8, \n",
    "    'ind_pres_fin_ult1': np.int8, \n",
    "    'ind_reca_fin_ult1': np.int8, \n",
    "    'ind_tjcr_fin_ult1': np.int8, \n",
    "    'ind_valo_fin_ult1': np.int8, \n",
    "    'ind_nomina_ult1': np.int8,\n",
    "    'ind_nom_pens_ult1': np.int8,\n",
    "    'ind_viv_fin_ult1': np.int8, \n",
    "    'ind_recibo_ult1': np.int8\n",
    "}\n",
    "\n",
    "dates = ['fecha_dato', 'fecha_alta', 'ult_fec_cli_1t']"
   ]
  },
  {
   "cell_type": "code",
   "execution_count": 4,
   "metadata": {
    "collapsed": true
   },
   "outputs": [],
   "source": [
    "data = pd.read_csv('data/train_preprocessed.csv', parse_dates=dates, dtype=data_types)"
   ]
  },
  {
   "cell_type": "code",
   "execution_count": 5,
   "metadata": {
    "collapsed": true
   },
   "outputs": [],
   "source": [
    "data_te = pd.read_csv('data/test_preprocessed.csv', parse_dates=dates, dtype=data_types)"
   ]
  },
  {
   "cell_type": "code",
   "execution_count": 6,
   "metadata": {
    "collapsed": true
   },
   "outputs": [],
   "source": [
    "target_cols = [\n",
    "    'ind_ahor_fin_ult1',\n",
    "    'ind_aval_fin_ult1',\n",
    "    'ind_cco_fin_ult1',\n",
    "    'ind_cder_fin_ult1',\n",
    "    'ind_cno_fin_ult1',\n",
    "    'ind_ctju_fin_ult1',\n",
    "    'ind_ctma_fin_ult1',\n",
    "    'ind_ctop_fin_ult1',\n",
    "    'ind_ctpp_fin_ult1',\n",
    "    'ind_deco_fin_ult1',\n",
    "    'ind_deme_fin_ult1',\n",
    "    'ind_dela_fin_ult1',\n",
    "    'ind_ecue_fin_ult1',\n",
    "    'ind_fond_fin_ult1',\n",
    "    'ind_hip_fin_ult1',\n",
    "    'ind_plan_fin_ult1',\n",
    "    'ind_pres_fin_ult1',\n",
    "    'ind_reca_fin_ult1',\n",
    "    'ind_tjcr_fin_ult1',\n",
    "    'ind_valo_fin_ult1',\n",
    "    'ind_viv_fin_ult1',\n",
    "    'ind_nomina_ult1',\n",
    "    'ind_nom_pens_ult1',\n",
    "    'ind_recibo_ult1'\n",
    "]\n",
    "\n",
    "\n",
    "feature_cols = list(set(data.columns) - set(target_cols) - set(['ncodpers']) - set(dates))"
   ]
  },
  {
   "cell_type": "code",
   "execution_count": 6,
   "metadata": {
    "collapsed": false
   },
   "outputs": [
    {
     "data": {
      "text/plain": [
       "array(['2015-01-28T00:00:00.000000000', '2015-02-28T00:00:00.000000000',\n",
       "       '2015-03-28T00:00:00.000000000', '2015-04-28T00:00:00.000000000',\n",
       "       '2015-05-28T00:00:00.000000000', '2015-06-28T00:00:00.000000000',\n",
       "       '2015-07-28T00:00:00.000000000', '2015-08-28T00:00:00.000000000',\n",
       "       '2015-09-28T00:00:00.000000000', '2015-10-28T00:00:00.000000000',\n",
       "       '2015-11-28T00:00:00.000000000', '2015-12-28T00:00:00.000000000',\n",
       "       '2016-01-28T00:00:00.000000000', '2016-02-28T00:00:00.000000000',\n",
       "       '2016-03-28T00:00:00.000000000', '2016-04-28T00:00:00.000000000',\n",
       "       '2016-05-28T00:00:00.000000000'], dtype='datetime64[ns]')"
      ]
     },
     "execution_count": 6,
     "metadata": {},
     "output_type": "execute_result"
    }
   ],
   "source": [
    "data.fecha_dato.unique()"
   ]
  },
  {
   "cell_type": "code",
   "execution_count": 20,
   "metadata": {
    "collapsed": true
   },
   "outputs": [],
   "source": [
    "# # valid\n",
    "# train_index = np.array(data.fecha_dato != datetime.datetime(2016, 5, 28))\n",
    "\n",
    "# valid_index = np.array(data.fecha_dato == datetime.datetime(2016, 5, 28))\n",
    "\n",
    "# last_month_index = np.array(data.fecha_dato == datetime.datetime(2016, 4, 28))"
   ]
  },
  {
   "cell_type": "code",
   "execution_count": 7,
   "metadata": {
    "collapsed": true
   },
   "outputs": [],
   "source": [
    "# valid\n",
    "\n",
    "last_month_index = np.array(data.fecha_dato == datetime.datetime(2016, 5, 28))"
   ]
  },
  {
   "cell_type": "code",
   "execution_count": 8,
   "metadata": {
    "collapsed": false
   },
   "outputs": [],
   "source": [
    "rating = data.ix[:, target_cols].sum(axis=0).values"
   ]
  },
  {
   "cell_type": "code",
   "execution_count": 9,
   "metadata": {
    "collapsed": true
   },
   "outputs": [],
   "source": [
    "sorted_rating = np.argsort(rating)[::-1]"
   ]
  },
  {
   "cell_type": "code",
   "execution_count": 72,
   "metadata": {
    "collapsed": false
   },
   "outputs": [],
   "source": [
    "# preds = []\n",
    "# trues = []\n",
    "# all_prods = set(np.arange(rating.size))\n",
    "# for target in data.ix[last_month_index, target_cols].values:\n",
    "#     used_prods = np.where(target == 1)[0]\n",
    "#     pred = []\n",
    "#     for p in sorted_rating:\n",
    "#         if p not in used_prods:\n",
    "#             pred += [p]\n",
    "            \n",
    "#         if len(pred) == 7:\n",
    "#             break\n",
    "            \n",
    "#     preds += [pred]\n",
    "    \n",
    "# # for target in data.ix[valid_index, target_cols].values:\n",
    "# #     trues += [set(np.where(target == 1)[0])]"
   ]
  },
  {
   "cell_type": "code",
   "execution_count": 72,
   "metadata": {
    "collapsed": true
   },
   "outputs": [],
   "source": [
    "preds = []\n",
    "for user_id in data_te.ncodpers.values:\n",
    "    indx = last_data.ncodpers == user_id\n",
    "    ld = last_data.ix[indx, target_cols].values\n",
    "    if ld.size > 0:\n",
    "        used_prods = np.where(ld[0] == 1)[0]\n",
    "        pred = []\n",
    "        for p in sorted_rating:\n",
    "            if p not in used_prods:\n",
    "                pred += [p]\n",
    "\n",
    "            if len(pred) == 7:\n",
    "                break\n",
    "\n",
    "    else:\n",
    "        pred = sorted_rating[:7]\n",
    "\n",
    "    preds += [pred]\n",
    "\n",
    "# for target in data.ix[valid_index, target_cols].values:\n",
    "#     trues += [set(np.where(target == 1)[0])]"
   ]
  },
  {
   "cell_type": "code",
   "execution_count": 78,
   "metadata": {
    "collapsed": true
   },
   "outputs": [],
   "source": [
    "target_cols = np.array([\n",
    "    'ind_ahor_fin_ult1',\n",
    "    'ind_aval_fin_ult1',\n",
    "    'ind_cco_fin_ult1',\n",
    "    'ind_cder_fin_ult1',\n",
    "    'ind_cno_fin_ult1',\n",
    "    'ind_ctju_fin_ult1',\n",
    "    'ind_ctma_fin_ult1',\n",
    "    'ind_ctop_fin_ult1',\n",
    "    'ind_ctpp_fin_ult1',\n",
    "    'ind_deco_fin_ult1',\n",
    "    'ind_deme_fin_ult1',\n",
    "    'ind_dela_fin_ult1',\n",
    "    'ind_ecue_fin_ult1',\n",
    "    'ind_fond_fin_ult1',\n",
    "    'ind_hip_fin_ult1',\n",
    "    'ind_plan_fin_ult1',\n",
    "    'ind_pres_fin_ult1',\n",
    "    'ind_reca_fin_ult1',\n",
    "    'ind_tjcr_fin_ult1',\n",
    "    'ind_valo_fin_ult1',\n",
    "    'ind_viv_fin_ult1',\n",
    "    'ind_nomina_ult1',\n",
    "    'ind_nom_pens_ult1',\n",
    "    'ind_recibo_ult1'\n",
    "])"
   ]
  },
  {
   "cell_type": "code",
   "execution_count": 80,
   "metadata": {
    "collapsed": false
   },
   "outputs": [],
   "source": [
    "final_preds = [' '.join(list(target_cols[pred])) for pred in preds]\n",
    "out = pd.DataFrame({'ncodpers': data_te.ncodpers.values, 'added_products': final_preds})"
   ]
  },
  {
   "cell_type": "code",
   "execution_count": 82,
   "metadata": {
    "collapsed": false
   },
   "outputs": [],
   "source": [
    "out.to_csv('data/submission.csv', index=False)"
   ]
  },
  {
   "cell_type": "code",
   "execution_count": 91,
   "metadata": {
    "collapsed": false
   },
   "outputs": [],
   "source": [
    "for pred in preds:\n",
    "    if len(pred) != 7:\n",
    "        print(len(pred))"
   ]
  },
  {
   "cell_type": "code",
   "execution_count": null,
   "metadata": {
    "collapsed": true
   },
   "outputs": [],
   "source": []
  },
  {
   "cell_type": "code",
   "execution_count": null,
   "metadata": {
    "collapsed": true
   },
   "outputs": [],
   "source": []
  },
  {
   "cell_type": "code",
   "execution_count": 74,
   "metadata": {
    "collapsed": false
   },
   "outputs": [
    {
     "data": {
      "text/plain": [
       "[set(),\n",
       " {2},\n",
       " {2},\n",
       " {4, 12, 18, 21, 22, 23},\n",
       " {2, 11},\n",
       " set(),\n",
       " {2, 8, 11, 18},\n",
       " {2},\n",
       " {2},\n",
       " set(),\n",
       " {11},\n",
       " {2},\n",
       " {4, 8, 17},\n",
       " {8},\n",
       " {2},\n",
       " {2},\n",
       " {2},\n",
       " set(),\n",
       " set(),\n",
       " {2, 7}]"
      ]
     },
     "execution_count": 74,
     "metadata": {},
     "output_type": "execute_result"
    }
   ],
   "source": [
    "trues[:20]"
   ]
  },
  {
   "cell_type": "code",
   "execution_count": 76,
   "metadata": {
    "collapsed": false
   },
   "outputs": [
    {
     "data": {
      "text/plain": [
       "0.27507033043946871"
      ]
     },
     "execution_count": 76,
     "metadata": {},
     "output_type": "execute_result"
    }
   ],
   "source": [
    "mapk(trues, preds, 7)"
   ]
  },
  {
   "cell_type": "code",
   "execution_count": null,
   "metadata": {
    "collapsed": true
   },
   "outputs": [],
   "source": [
    "y_pred = np.argsort(y_pred, axis=1)\n",
    "y_pred = np.fliplr(y_pred)\n",
    "\n",
    "preds = []\n",
    "trues = []\n",
    "for i in range(y_pred.shape[0]):\n",
    "    cust_id = ncodpers[i]\n",
    "    used_products = last_products.get(cust_id, {})\n",
    "    \n",
    "    pred_top_products = []\n",
    "    for product_id in y_pred[i]:\n",
    "        if product_id not in used_products:\n",
    "            pred_top_products.append(product_id)\n",
    "        if len(pred_top_products) == 7:\n",
    "            break\n",
    "    \n",
    "    products = np.arange(0, len(y_valid[i]))[y_valid[i].astype(bool)]\n",
    "    true_top_products = []\n",
    "    for product_id in products:\n",
    "        if product_id not in used_products:\n",
    "            true_top_products.append(product_id)\n",
    "    \n",
    "    preds.append(pred_top_products)\n",
    "    trues.append(true_top_products)"
   ]
  },
  {
   "cell_type": "code",
   "execution_count": null,
   "metadata": {
    "collapsed": true
   },
   "outputs": [],
   "source": []
  }
 ],
 "metadata": {
  "kernelspec": {
   "display_name": "Python 3",
   "language": "python",
   "name": "python3"
  },
  "language_info": {
   "codemirror_mode": {
    "name": "ipython",
    "version": 3
   },
   "file_extension": ".py",
   "mimetype": "text/x-python",
   "name": "python",
   "nbconvert_exporter": "python",
   "pygments_lexer": "ipython3",
   "version": "3.5.1"
  }
 },
 "nbformat": 4,
 "nbformat_minor": 1
}
